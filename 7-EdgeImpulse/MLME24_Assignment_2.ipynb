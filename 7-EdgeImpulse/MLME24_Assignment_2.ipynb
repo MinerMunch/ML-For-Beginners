{
  "cells": [
    {
      "cell_type": "markdown",
      "metadata": {
        "id": "view-in-github",
        "colab_type": "text"
      },
      "source": [
        "<a href=\"https://colab.research.google.com/github/MinerMunch/ML-For-Beginners/blob/main/7-EdgeImpulse/MLME24_Assignment_2.ipynb\" target=\"_parent\"><img src=\"https://colab.research.google.com/assets/colab-badge.svg\" alt=\"Open In Colab\"/></a>"
      ]
    },
    {
      "cell_type": "code",
      "execution_count": 60,
      "metadata": {
        "id": "fy65AnWc8A9B"
      },
      "outputs": [],
      "source": [
        "import tensorflow as tf\n",
        "import numpy as np\n",
        "import os"
      ]
    },
    {
      "cell_type": "markdown",
      "metadata": {
        "id": "5Ks6ckHV8fDj"
      },
      "source": [
        "# Tutorial 1: Continous Motion Recognition\n",
        "The project [https://studio.edgeimpulse.com/public/14299/latest](https://studio.edgeimpulse.com/public/14299/latest)"
      ]
    },
    {
      "cell_type": "code",
      "execution_count": 61,
      "metadata": {
        "id": "N1uvn_pQ-Ujs"
      },
      "outputs": [],
      "source": [
        "# no cloning needed, the following are extracted from the project page dashboard for auto downloads\n",
        "PROJECT_ID=412593\n",
        "DSP_ID=31\n",
        "LRN_ID=35\n",
        "\n",
        "# if there is no data subfolder, create one, and get the data inside it; -q flag is for quiet mode\n",
        "\n",
        "if not os.path.exists('data1'):\n",
        "    os.makedirs('data1')\n",
        "    !wget -q https://studio.edgeimpulse.com/v1/api/$PROJECT_ID/dsp-data/$DSP_ID/x/training -O data1/X_split_train.npy\n",
        "    !wget -q https://studio.edgeimpulse.com/v1/api/$PROJECT_ID/dsp-data/$DSP_ID/y/training -O data1/Y_split_train.npy\n",
        "    !wget -q https://studio.edgeimpulse.com/v1/api/$PROJECT_ID/dsp-data/$DSP_ID/x/testing -O data1/X_split_test.npy\n",
        "    !wget -q https://studio.edgeimpulse.com/v1/api/$PROJECT_ID/dsp-data/$DSP_ID/y/testing -O data1/Y_split_test.npy\n"
      ]
    },
    {
      "cell_type": "code",
      "execution_count": 62,
      "metadata": {
        "colab": {
          "base_uri": "https://localhost:8080/"
        },
        "id": "KjNayisK_O0y",
        "outputId": "33d85740-99d7-4f97-d4f0-2e480e048124"
      },
      "outputs": [
        {
          "output_type": "stream",
          "name": "stdout",
          "text": [
            "--2025-10-20 13:11:50--  https://studio.edgeimpulse.com/v1/api/412593/learn-data/35/model/tflite-h5\n",
            "Resolving studio.edgeimpulse.com (studio.edgeimpulse.com)... 13.225.47.112, 13.225.47.125, 13.225.47.30, ...\n",
            "Connecting to studio.edgeimpulse.com (studio.edgeimpulse.com)|13.225.47.112|:443... connected.\n",
            "HTTP request sent, awaiting response... 200 OK\n",
            "Length: unspecified [application/octet-stream]\n",
            "Saving to: ‘model1/model1.zip’\n",
            "\n",
            "model1/model1.zip       [ <=>                ]   6.05K  --.-KB/s    in 0s      \n",
            "\n",
            "2025-10-20 13:11:51 (534 MB/s) - ‘model1/model1.zip’ saved [6199]\n",
            "\n",
            "replace model.h5? [y]es, [n]o, [A]ll, [N]one, [r]ename: y\n"
          ]
        }
      ],
      "source": [
        "# THE MODEL\n",
        "if not os.path.exists('model1'):\n",
        "    os.makedirs('model1')\n",
        "!wget https://studio.edgeimpulse.com/v1/api/$PROJECT_ID/learn-data/$LRN_ID/model/tflite-h5 -O model1/model1.zip\n",
        "\n",
        "# unzip model1.zip quitely as model1.h5 and remove model1.zip\n",
        "!cd model1 && unzip -q model1.zip\n",
        "!rm model1/model1.zip\n",
        "!cd .."
      ]
    },
    {
      "cell_type": "code",
      "execution_count": 63,
      "metadata": {
        "colab": {
          "base_uri": "https://localhost:8080/"
        },
        "id": "LsXM3F75AtkE",
        "outputId": "092f250d-6318-43b9-9781-5450063e39d3"
      },
      "outputs": [
        {
          "output_type": "stream",
          "name": "stderr",
          "text": [
            "WARNING:absl:Compiled the loaded model, but the compiled metrics have yet to be built. `model.compile_metrics` will be empty until you train or evaluate the model.\n"
          ]
        }
      ],
      "source": [
        "model = tf.keras.models.load_model('model1/model.h5')"
      ]
    },
    {
      "cell_type": "code",
      "execution_count": 64,
      "metadata": {
        "colab": {
          "base_uri": "https://localhost:8080/",
          "height": 241
        },
        "id": "s-BAMdcwAzSu",
        "outputId": "c3a5af1e-9496-4c84-943f-889338c63bf5"
      },
      "outputs": [
        {
          "output_type": "display_data",
          "data": {
            "text/plain": [
              "\u001b[1mModel: \"sequential\"\u001b[0m\n"
            ],
            "text/html": [
              "<pre style=\"white-space:pre;overflow-x:auto;line-height:normal;font-family:Menlo,'DejaVu Sans Mono',consolas,'Courier New',monospace\"><span style=\"font-weight: bold\">Model: \"sequential\"</span>\n",
              "</pre>\n"
            ]
          },
          "metadata": {}
        },
        {
          "output_type": "display_data",
          "data": {
            "text/plain": [
              "┏━━━━━━━━━━━━━━━━━━━━━━━━━━━━━━━━━┳━━━━━━━━━━━━━━━━━━━━━━━━┳━━━━━━━━━━━━━━━┓\n",
              "┃\u001b[1m \u001b[0m\u001b[1mLayer (type)                   \u001b[0m\u001b[1m \u001b[0m┃\u001b[1m \u001b[0m\u001b[1mOutput Shape          \u001b[0m\u001b[1m \u001b[0m┃\u001b[1m \u001b[0m\u001b[1m      Param #\u001b[0m\u001b[1m \u001b[0m┃\n",
              "┡━━━━━━━━━━━━━━━━━━━━━━━━━━━━━━━━━╇━━━━━━━━━━━━━━━━━━━━━━━━╇━━━━━━━━━━━━━━━┩\n",
              "│ dense (\u001b[38;5;33mDense\u001b[0m)                   │ (\u001b[38;5;45mNone\u001b[0m, \u001b[38;5;34m20\u001b[0m)             │           \u001b[38;5;34m800\u001b[0m │\n",
              "├─────────────────────────────────┼────────────────────────┼───────────────┤\n",
              "│ dense_1 (\u001b[38;5;33mDense\u001b[0m)                 │ (\u001b[38;5;45mNone\u001b[0m, \u001b[38;5;34m10\u001b[0m)             │           \u001b[38;5;34m210\u001b[0m │\n",
              "├─────────────────────────────────┼────────────────────────┼───────────────┤\n",
              "│ y_pred (\u001b[38;5;33mDense\u001b[0m)                  │ (\u001b[38;5;45mNone\u001b[0m, \u001b[38;5;34m4\u001b[0m)              │            \u001b[38;5;34m44\u001b[0m │\n",
              "└─────────────────────────────────┴────────────────────────┴───────────────┘\n"
            ],
            "text/html": [
              "<pre style=\"white-space:pre;overflow-x:auto;line-height:normal;font-family:Menlo,'DejaVu Sans Mono',consolas,'Courier New',monospace\">┏━━━━━━━━━━━━━━━━━━━━━━━━━━━━━━━━━┳━━━━━━━━━━━━━━━━━━━━━━━━┳━━━━━━━━━━━━━━━┓\n",
              "┃<span style=\"font-weight: bold\"> Layer (type)                    </span>┃<span style=\"font-weight: bold\"> Output Shape           </span>┃<span style=\"font-weight: bold\">       Param # </span>┃\n",
              "┡━━━━━━━━━━━━━━━━━━━━━━━━━━━━━━━━━╇━━━━━━━━━━━━━━━━━━━━━━━━╇━━━━━━━━━━━━━━━┩\n",
              "│ dense (<span style=\"color: #0087ff; text-decoration-color: #0087ff\">Dense</span>)                   │ (<span style=\"color: #00d7ff; text-decoration-color: #00d7ff\">None</span>, <span style=\"color: #00af00; text-decoration-color: #00af00\">20</span>)             │           <span style=\"color: #00af00; text-decoration-color: #00af00\">800</span> │\n",
              "├─────────────────────────────────┼────────────────────────┼───────────────┤\n",
              "│ dense_1 (<span style=\"color: #0087ff; text-decoration-color: #0087ff\">Dense</span>)                 │ (<span style=\"color: #00d7ff; text-decoration-color: #00d7ff\">None</span>, <span style=\"color: #00af00; text-decoration-color: #00af00\">10</span>)             │           <span style=\"color: #00af00; text-decoration-color: #00af00\">210</span> │\n",
              "├─────────────────────────────────┼────────────────────────┼───────────────┤\n",
              "│ y_pred (<span style=\"color: #0087ff; text-decoration-color: #0087ff\">Dense</span>)                  │ (<span style=\"color: #00d7ff; text-decoration-color: #00d7ff\">None</span>, <span style=\"color: #00af00; text-decoration-color: #00af00\">4</span>)              │            <span style=\"color: #00af00; text-decoration-color: #00af00\">44</span> │\n",
              "└─────────────────────────────────┴────────────────────────┴───────────────┘\n",
              "</pre>\n"
            ]
          },
          "metadata": {}
        },
        {
          "output_type": "display_data",
          "data": {
            "text/plain": [
              "\u001b[1m Total params: \u001b[0m\u001b[38;5;34m1,056\u001b[0m (4.13 KB)\n"
            ],
            "text/html": [
              "<pre style=\"white-space:pre;overflow-x:auto;line-height:normal;font-family:Menlo,'DejaVu Sans Mono',consolas,'Courier New',monospace\"><span style=\"font-weight: bold\"> Total params: </span><span style=\"color: #00af00; text-decoration-color: #00af00\">1,056</span> (4.13 KB)\n",
              "</pre>\n"
            ]
          },
          "metadata": {}
        },
        {
          "output_type": "display_data",
          "data": {
            "text/plain": [
              "\u001b[1m Trainable params: \u001b[0m\u001b[38;5;34m1,054\u001b[0m (4.12 KB)\n"
            ],
            "text/html": [
              "<pre style=\"white-space:pre;overflow-x:auto;line-height:normal;font-family:Menlo,'DejaVu Sans Mono',consolas,'Courier New',monospace\"><span style=\"font-weight: bold\"> Trainable params: </span><span style=\"color: #00af00; text-decoration-color: #00af00\">1,054</span> (4.12 KB)\n",
              "</pre>\n"
            ]
          },
          "metadata": {}
        },
        {
          "output_type": "display_data",
          "data": {
            "text/plain": [
              "\u001b[1m Non-trainable params: \u001b[0m\u001b[38;5;34m0\u001b[0m (0.00 B)\n"
            ],
            "text/html": [
              "<pre style=\"white-space:pre;overflow-x:auto;line-height:normal;font-family:Menlo,'DejaVu Sans Mono',consolas,'Courier New',monospace\"><span style=\"font-weight: bold\"> Non-trainable params: </span><span style=\"color: #00af00; text-decoration-color: #00af00\">0</span> (0.00 B)\n",
              "</pre>\n"
            ]
          },
          "metadata": {}
        },
        {
          "output_type": "display_data",
          "data": {
            "text/plain": [
              "\u001b[1m Optimizer params: \u001b[0m\u001b[38;5;34m2\u001b[0m (12.00 B)\n"
            ],
            "text/html": [
              "<pre style=\"white-space:pre;overflow-x:auto;line-height:normal;font-family:Menlo,'DejaVu Sans Mono',consolas,'Courier New',monospace\"><span style=\"font-weight: bold\"> Optimizer params: </span><span style=\"color: #00af00; text-decoration-color: #00af00\">2</span> (12.00 B)\n",
              "</pre>\n"
            ]
          },
          "metadata": {}
        }
      ],
      "source": [
        "model.summary()"
      ]
    },
    {
      "cell_type": "code",
      "execution_count": 65,
      "metadata": {
        "id": "Oay15oR8A6v_"
      },
      "outputs": [],
      "source": [
        "test_data = np.load('data1/X_split_test.npy')\n",
        "test_labels = np.load('data1/Y_split_test.npy')"
      ]
    },
    {
      "cell_type": "code",
      "execution_count": 66,
      "metadata": {
        "colab": {
          "base_uri": "https://localhost:8080/"
        },
        "id": "PPSPG6abBCZU",
        "outputId": "29479c88-ca30-4adb-e0ae-6a0a379ee6c4"
      },
      "outputs": [
        {
          "output_type": "execute_result",
          "data": {
            "text/plain": [
              "array([2, 2, 2, 2, 2, 2, 2, 2, 2, 2, 2, 2, 2, 2, 2, 2, 2, 2, 2, 2, 2, 2,\n",
              "       2, 2, 2, 2, 2, 2, 2, 2, 2, 2, 2, 2, 4, 4, 4, 4, 4, 4, 4, 4, 4, 4,\n",
              "       4, 4, 4, 4, 4, 4, 4, 4, 4, 4, 4, 4, 4, 4, 4, 4, 4, 4, 4, 4, 4, 4,\n",
              "       4, 4, 3, 3, 3, 3, 3, 3, 3, 3, 3, 3, 3, 3, 3, 3, 3, 3, 3, 3, 3, 3,\n",
              "       3, 3, 3, 3, 3, 3, 3, 3, 3, 3, 3, 3, 3, 3, 4, 4, 4, 4, 4, 4, 4, 4,\n",
              "       4, 4, 4, 4, 4, 4, 4, 4, 4, 4, 4, 4, 4, 4, 4, 4, 4, 4, 4, 4, 4, 4,\n",
              "       4, 4, 4, 4, 5, 5, 5, 5, 5, 5, 5, 5, 5, 5, 5, 5, 5, 5, 5, 5, 5, 5,\n",
              "       5, 5, 5, 5, 5, 5, 5, 5, 5, 5, 5, 5, 5, 5, 5, 5, 5, 5, 5, 5, 5, 5,\n",
              "       5, 5, 5, 5, 5, 5, 5, 5, 5, 5, 5, 5, 5, 5, 5, 5, 5, 5, 5, 5, 5, 5,\n",
              "       5, 5, 5, 5, 5, 5, 3, 3, 3, 3, 3, 3, 3, 3, 3, 3, 3, 3, 3, 3, 3, 3,\n",
              "       3, 3, 3, 3, 3, 3, 3, 3, 3, 3, 3, 3, 3, 3, 3, 3, 3, 3, 2, 2, 2, 2,\n",
              "       2, 2, 2, 2, 2, 2, 2, 2, 2, 2, 2, 2, 2, 2, 2, 2, 2, 2, 2, 2, 2, 2,\n",
              "       2, 2, 2, 2, 2, 2, 2, 2, 4, 4, 4, 4, 4, 4, 4, 4, 4, 4, 4, 4, 4, 2,\n",
              "       2, 2, 2, 2, 2, 2, 2, 2, 2, 2, 2, 2, 2, 2, 2, 2, 2, 2, 2, 2, 2, 2,\n",
              "       2, 2, 2, 2, 2, 2, 2, 2, 2, 2, 2, 5, 5, 5, 5, 5, 5, 5, 5, 5, 5, 5,\n",
              "       5, 5, 5, 5, 5, 5, 5, 5, 5, 5, 5, 5, 5, 5, 5, 5, 5, 5, 5, 5, 5, 5,\n",
              "       5, 5, 5, 5, 5, 5, 5, 5, 5, 5, 5, 5, 5, 5, 5, 5, 5, 5, 5, 5, 5, 5,\n",
              "       5, 5, 5, 5, 5, 5, 5, 5, 5, 5, 5, 5, 5, 2, 2, 2, 2, 2, 2, 2, 2, 2,\n",
              "       2, 2, 2, 2, 2, 2, 2, 2, 2, 2, 2, 2, 2, 2, 2, 2, 2, 2, 2, 2, 2, 2,\n",
              "       2, 2, 2, 4, 4, 4, 4, 4, 4, 4, 4, 4, 4, 4, 4, 4, 4, 4, 4, 4, 4, 4,\n",
              "       4, 4, 4, 4, 4, 4, 4, 4, 4, 4, 4, 4, 4, 4, 4, 3, 3, 3, 3, 3, 3, 3,\n",
              "       3, 3, 3, 3, 3, 3, 3, 3, 3, 3, 3, 3, 3, 3, 3, 3, 3, 3, 3, 3, 3, 3,\n",
              "       3, 3, 3, 3, 3, 1, 1, 1, 1, 1, 1, 1, 1, 1, 1, 1, 1, 1], dtype=int32)"
            ]
          },
          "metadata": {},
          "execution_count": 66
        }
      ],
      "source": [
        "# The labels are in the first column and go like \"idle\", \"snake\", \"updown\", \"wave, and \"anomaly\" or \"other\"?\n",
        "test_labels[:,0]"
      ]
    },
    {
      "cell_type": "code",
      "execution_count": 67,
      "metadata": {
        "colab": {
          "base_uri": "https://localhost:8080/"
        },
        "id": "oAcpvzYFBsb5",
        "outputId": "cc7943b7-8a87-4761-b606-e4cdf97144b9"
      },
      "outputs": [
        {
          "output_type": "stream",
          "name": "stdout",
          "text": [
            "\u001b[1m16/16\u001b[0m \u001b[32m━━━━━━━━━━━━━━━━━━━━\u001b[0m\u001b[37m\u001b[0m \u001b[1m0s\u001b[0m 4ms/step \n"
          ]
        }
      ],
      "source": [
        "predictions = model.predict(test_data)"
      ]
    },
    {
      "cell_type": "code",
      "execution_count": 68,
      "metadata": {
        "colab": {
          "base_uri": "https://localhost:8080/"
        },
        "id": "6arQRjDlB1J5",
        "outputId": "b4884ca1-e898-485b-e5f9-dbad553ae04c"
      },
      "outputs": [
        {
          "output_type": "execute_result",
          "data": {
            "text/plain": [
              "array([0, 0, 0, 0, 0, 0, 0, 0, 0, 0, 0, 0, 0, 0, 0, 0, 0, 0, 0, 0, 0, 0,\n",
              "       0, 0, 0, 0, 0, 0, 0, 0, 0, 0, 0, 0, 2, 2, 2, 2, 2, 2, 2, 2, 2, 2,\n",
              "       2, 2, 2, 2, 2, 2, 2, 2, 2, 2, 2, 2, 2, 2, 2, 2, 2, 2, 2, 2, 2, 2,\n",
              "       2, 2, 1, 1, 1, 1, 1, 1, 1, 1, 1, 1, 1, 1, 1, 1, 1, 1, 1, 1, 1, 1,\n",
              "       1, 1, 1, 1, 1, 1, 1, 1, 1, 1, 1, 1, 1, 1, 2, 2, 2, 2, 2, 2, 2, 2,\n",
              "       2, 2, 2, 2, 2, 2, 2, 2, 2, 2, 2, 2, 2, 2, 2, 2, 2, 2, 2, 2, 2, 2,\n",
              "       2, 2, 2, 2, 3, 3, 3, 3, 3, 3, 3, 3, 3, 3, 3, 3, 3, 3, 3, 3, 3, 3,\n",
              "       3, 3, 3, 3, 3, 3, 3, 3, 3, 3, 3, 3, 3, 3, 3, 3, 3, 3, 3, 3, 3, 3,\n",
              "       3, 3, 3, 3, 3, 3, 3, 3, 3, 3, 3, 3, 3, 3, 3, 3, 3, 3, 3, 3, 3, 3,\n",
              "       3, 3, 3, 3, 3, 3, 1, 1, 1, 1, 1, 1, 1, 1, 1, 1, 1, 1, 1, 1, 1, 1,\n",
              "       1, 1, 1, 1, 1, 1, 1, 1, 1, 1, 1, 1, 1, 1, 1, 1, 1, 1, 0, 0, 0, 0,\n",
              "       0, 0, 0, 0, 0, 0, 0, 0, 0, 0, 0, 0, 0, 0, 0, 0, 0, 0, 0, 0, 0, 0,\n",
              "       0, 0, 0, 0, 0, 0, 0, 0, 2, 2, 2, 2, 2, 2, 2, 2, 2, 2, 2, 2, 1, 0,\n",
              "       0, 0, 0, 0, 0, 0, 0, 0, 0, 0, 0, 0, 0, 0, 0, 0, 0, 0, 0, 0, 0, 0,\n",
              "       0, 0, 0, 0, 0, 0, 0, 0, 0, 0, 0, 3, 3, 3, 3, 3, 3, 3, 3, 3, 3, 3,\n",
              "       3, 3, 3, 3, 3, 3, 3, 3, 3, 3, 3, 3, 3, 3, 3, 3, 3, 3, 3, 3, 3, 3,\n",
              "       3, 3, 3, 3, 3, 3, 3, 3, 3, 3, 3, 3, 3, 3, 3, 3, 3, 3, 3, 3, 3, 3,\n",
              "       3, 3, 3, 3, 3, 3, 3, 3, 3, 3, 3, 3, 3, 0, 0, 0, 0, 0, 0, 0, 0, 0,\n",
              "       0, 0, 0, 0, 0, 0, 0, 0, 0, 0, 0, 0, 0, 0, 0, 0, 0, 0, 0, 0, 0, 0,\n",
              "       0, 0, 0, 2, 2, 2, 2, 2, 2, 2, 2, 2, 2, 2, 2, 2, 2, 2, 2, 2, 2, 2,\n",
              "       2, 2, 2, 2, 2, 2, 2, 2, 2, 2, 2, 2, 2, 2, 2, 1, 1, 1, 1, 1, 1, 1,\n",
              "       1, 1, 1, 1, 1, 1, 1, 1, 1, 1, 1, 1, 1, 1, 1, 1, 1, 1, 1, 1, 1, 1,\n",
              "       1, 1, 1, 1, 1, 3, 3, 3, 3, 3, 3, 3, 1, 3, 1, 1, 1, 3])"
            ]
          },
          "metadata": {},
          "execution_count": 68
        }
      ],
      "source": [
        "np.argmax(predictions, axis = 1)"
      ]
    },
    {
      "cell_type": "code",
      "execution_count": 69,
      "metadata": {
        "colab": {
          "base_uri": "https://localhost:8080/"
        },
        "id": "QfhdPuM2CFdI",
        "outputId": "e3c04189-7902-4f8f-f4a2-39d63e94a270"
      },
      "outputs": [
        {
          "output_type": "stream",
          "name": "stdout",
          "text": [
            "Accuracy:  97.21%\n"
          ]
        }
      ],
      "source": [
        "# For calculating the accuracy we substract -1 from the test labels and add +1 to the predictions\n",
        "accuracy = np.mean(1+np.argmax(predictions, axis = 1) == (test_labels[:,0]-1))\n",
        "print(f'Accuracy: {accuracy * 100: .2f}%')"
      ]
    },
    {
      "cell_type": "markdown",
      "metadata": {
        "id": "6kVyXNjt8VTF"
      },
      "source": [
        "# Tutorial 2: Responding to Voice"
      ]
    },
    {
      "cell_type": "markdown",
      "source": [
        "![image.png](data:image/png;base64,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)"
      ],
      "metadata": {
        "id": "i35U2-vsvei5"
      }
    },
    {
      "cell_type": "code",
      "execution_count": 70,
      "metadata": {
        "id": "wrW5Fl_kli11"
      },
      "outputs": [],
      "source": [
        "# Models with a higher number of epochs had higher accuracy. That made the must difference. More data was added through a mobile phone with recordings\n",
        "PROJECT_ID=791919\n",
        "DSP_ID=25\n",
        "LRN_ID=5\n",
        "\n",
        "# if there is no data subfolder, create one, and get the data inside it; -q flag is for quiet mode\n",
        "\n",
        "if not os.path.exists('data2'):\n",
        "    os.makedirs('data2')\n",
        "    !wget -q https://studio.edgeimpulse.com/v1/api/$PROJECT_ID/dsp-data/$DSP_ID/x/training -O data/X_split_train.npy\n",
        "    !wget -q https://studio.edgeimpulse.com/v1/api/$PROJECT_ID/dsp-data/$DSP_ID/y/training -O data/Y_split_train.npy\n",
        "    !wget -q https://studio.edgeimpulse.com/v1/api/$PROJECT_ID/dsp-data/$DSP_ID/x/testing -O data/X_split_test.npy\n",
        "    !wget -q https://studio.edgeimpulse.com/v1/api/$PROJECT_ID/dsp-data/$DSP_ID/y/testing -O data/Y_split_test.npy\n"
      ]
    },
    {
      "cell_type": "code",
      "execution_count": 71,
      "metadata": {
        "colab": {
          "base_uri": "https://localhost:8080/"
        },
        "id": "wOdijBrelyhJ",
        "outputId": "8e5c897c-c2bd-444d-8e02-cccdc1999776"
      },
      "outputs": [
        {
          "output_type": "stream",
          "name": "stdout",
          "text": [
            "--2025-10-20 13:12:38--  https://studio.edgeimpulse.com/v1/api/791919/learn-data/5/model/tflite-h5\n",
            "Resolving studio.edgeimpulse.com (studio.edgeimpulse.com)... 13.225.47.30, 13.225.47.125, 13.225.47.112, ...\n",
            "Connecting to studio.edgeimpulse.com (studio.edgeimpulse.com)|13.225.47.30|:443... connected.\n",
            "HTTP request sent, awaiting response... 200 OK\n",
            "Length: unspecified [application/octet-stream]\n",
            "Saving to: ‘model2.zip’\n",
            "\n",
            "model2.zip              [ <=>                ]  16.00K  --.-KB/s    in 0s      \n",
            "\n",
            "2025-10-20 13:12:39 (32.2 MB/s) - ‘model2.zip’ saved [16381]\n",
            "\n",
            "replace model.h5? [y]es, [n]o, [A]ll, [N]one, [r]ename: y\n",
            "data  data1  data2  model1  model.h5  sample_data\n"
          ]
        }
      ],
      "source": [
        "# THE MODEL\n",
        "!wget https://studio.edgeimpulse.com/v1/api/$PROJECT_ID/learn-data/$LRN_ID/model/tflite-h5 -O model2.zip\n",
        "\n",
        "# unzip quitely and remove model2.zip\n",
        "!unzip -q model2.zip\n",
        "!rm model2.zip\n",
        "!ls"
      ]
    },
    {
      "cell_type": "markdown",
      "metadata": {
        "id": "DC6csTzRmIw9"
      },
      "source": []
    },
    {
      "cell_type": "code",
      "execution_count": 72,
      "metadata": {
        "colab": {
          "base_uri": "https://localhost:8080/"
        },
        "id": "tkCCYTeGmEnu",
        "outputId": "278dcdaa-2dbe-4ced-e378-8d3e36645860"
      },
      "outputs": [
        {
          "output_type": "stream",
          "name": "stderr",
          "text": [
            "WARNING:absl:Compiled the loaded model, but the compiled metrics have yet to be built. `model.compile_metrics` will be empty until you train or evaluate the model.\n"
          ]
        }
      ],
      "source": [
        "model = tf.keras.models.load_model('model.h5')"
      ]
    },
    {
      "cell_type": "code",
      "execution_count": 73,
      "metadata": {
        "colab": {
          "base_uri": "https://localhost:8080/",
          "height": 465
        },
        "id": "XOINtszWmyL4",
        "outputId": "ad9f9ac1-53b5-45e6-ebb2-bf53dde2f292"
      },
      "outputs": [
        {
          "output_type": "display_data",
          "data": {
            "text/plain": [
              "\u001b[1mModel: \"sequential\"\u001b[0m\n"
            ],
            "text/html": [
              "<pre style=\"white-space:pre;overflow-x:auto;line-height:normal;font-family:Menlo,'DejaVu Sans Mono',consolas,'Courier New',monospace\"><span style=\"font-weight: bold\">Model: \"sequential\"</span>\n",
              "</pre>\n"
            ]
          },
          "metadata": {}
        },
        {
          "output_type": "display_data",
          "data": {
            "text/plain": [
              "┏━━━━━━━━━━━━━━━━━━━━━━━━━━━━━━━━━┳━━━━━━━━━━━━━━━━━━━━━━━━┳━━━━━━━━━━━━━━━┓\n",
              "┃\u001b[1m \u001b[0m\u001b[1mLayer (type)                   \u001b[0m\u001b[1m \u001b[0m┃\u001b[1m \u001b[0m\u001b[1mOutput Shape          \u001b[0m\u001b[1m \u001b[0m┃\u001b[1m \u001b[0m\u001b[1m      Param #\u001b[0m\u001b[1m \u001b[0m┃\n",
              "┡━━━━━━━━━━━━━━━━━━━━━━━━━━━━━━━━━╇━━━━━━━━━━━━━━━━━━━━━━━━╇━━━━━━━━━━━━━━━┩\n",
              "│ gaussian_noise (\u001b[38;5;33mGaussianNoise\u001b[0m)  │ (\u001b[38;5;45mNone\u001b[0m, \u001b[38;5;34m624\u001b[0m)            │             \u001b[38;5;34m0\u001b[0m │\n",
              "├─────────────────────────────────┼────────────────────────┼───────────────┤\n",
              "│ reshape (\u001b[38;5;33mReshape\u001b[0m)               │ (\u001b[38;5;45mNone\u001b[0m, \u001b[38;5;34m48\u001b[0m, \u001b[38;5;34m13\u001b[0m, \u001b[38;5;34m1\u001b[0m)      │             \u001b[38;5;34m0\u001b[0m │\n",
              "├─────────────────────────────────┼────────────────────────┼───────────────┤\n",
              "│ conv2d (\u001b[38;5;33mConv2D\u001b[0m)                 │ (\u001b[38;5;45mNone\u001b[0m, \u001b[38;5;34m48\u001b[0m, \u001b[38;5;34m13\u001b[0m, \u001b[38;5;34m8\u001b[0m)      │            \u001b[38;5;34m80\u001b[0m │\n",
              "├─────────────────────────────────┼────────────────────────┼───────────────┤\n",
              "│ max_pooling2d (\u001b[38;5;33mMaxPooling2D\u001b[0m)    │ (\u001b[38;5;45mNone\u001b[0m, \u001b[38;5;34m24\u001b[0m, \u001b[38;5;34m7\u001b[0m, \u001b[38;5;34m8\u001b[0m)       │             \u001b[38;5;34m0\u001b[0m │\n",
              "├─────────────────────────────────┼────────────────────────┼───────────────┤\n",
              "│ dropout (\u001b[38;5;33mDropout\u001b[0m)               │ (\u001b[38;5;45mNone\u001b[0m, \u001b[38;5;34m24\u001b[0m, \u001b[38;5;34m7\u001b[0m, \u001b[38;5;34m8\u001b[0m)       │             \u001b[38;5;34m0\u001b[0m │\n",
              "├─────────────────────────────────┼────────────────────────┼───────────────┤\n",
              "│ conv2d_1 (\u001b[38;5;33mConv2D\u001b[0m)               │ (\u001b[38;5;45mNone\u001b[0m, \u001b[38;5;34m24\u001b[0m, \u001b[38;5;34m7\u001b[0m, \u001b[38;5;34m16\u001b[0m)      │         \u001b[38;5;34m1,168\u001b[0m │\n",
              "├─────────────────────────────────┼────────────────────────┼───────────────┤\n",
              "│ max_pooling2d_1 (\u001b[38;5;33mMaxPooling2D\u001b[0m)  │ (\u001b[38;5;45mNone\u001b[0m, \u001b[38;5;34m12\u001b[0m, \u001b[38;5;34m4\u001b[0m, \u001b[38;5;34m16\u001b[0m)      │             \u001b[38;5;34m0\u001b[0m │\n",
              "├─────────────────────────────────┼────────────────────────┼───────────────┤\n",
              "│ dropout_1 (\u001b[38;5;33mDropout\u001b[0m)             │ (\u001b[38;5;45mNone\u001b[0m, \u001b[38;5;34m12\u001b[0m, \u001b[38;5;34m4\u001b[0m, \u001b[38;5;34m16\u001b[0m)      │             \u001b[38;5;34m0\u001b[0m │\n",
              "├─────────────────────────────────┼────────────────────────┼───────────────┤\n",
              "│ flatten (\u001b[38;5;33mFlatten\u001b[0m)               │ (\u001b[38;5;45mNone\u001b[0m, \u001b[38;5;34m768\u001b[0m)            │             \u001b[38;5;34m0\u001b[0m │\n",
              "├─────────────────────────────────┼────────────────────────┼───────────────┤\n",
              "│ y_pred (\u001b[38;5;33mDense\u001b[0m)                  │ (\u001b[38;5;45mNone\u001b[0m, \u001b[38;5;34m3\u001b[0m)              │         \u001b[38;5;34m2,307\u001b[0m │\n",
              "└─────────────────────────────────┴────────────────────────┴───────────────┘\n"
            ],
            "text/html": [
              "<pre style=\"white-space:pre;overflow-x:auto;line-height:normal;font-family:Menlo,'DejaVu Sans Mono',consolas,'Courier New',monospace\">┏━━━━━━━━━━━━━━━━━━━━━━━━━━━━━━━━━┳━━━━━━━━━━━━━━━━━━━━━━━━┳━━━━━━━━━━━━━━━┓\n",
              "┃<span style=\"font-weight: bold\"> Layer (type)                    </span>┃<span style=\"font-weight: bold\"> Output Shape           </span>┃<span style=\"font-weight: bold\">       Param # </span>┃\n",
              "┡━━━━━━━━━━━━━━━━━━━━━━━━━━━━━━━━━╇━━━━━━━━━━━━━━━━━━━━━━━━╇━━━━━━━━━━━━━━━┩\n",
              "│ gaussian_noise (<span style=\"color: #0087ff; text-decoration-color: #0087ff\">GaussianNoise</span>)  │ (<span style=\"color: #00d7ff; text-decoration-color: #00d7ff\">None</span>, <span style=\"color: #00af00; text-decoration-color: #00af00\">624</span>)            │             <span style=\"color: #00af00; text-decoration-color: #00af00\">0</span> │\n",
              "├─────────────────────────────────┼────────────────────────┼───────────────┤\n",
              "│ reshape (<span style=\"color: #0087ff; text-decoration-color: #0087ff\">Reshape</span>)               │ (<span style=\"color: #00d7ff; text-decoration-color: #00d7ff\">None</span>, <span style=\"color: #00af00; text-decoration-color: #00af00\">48</span>, <span style=\"color: #00af00; text-decoration-color: #00af00\">13</span>, <span style=\"color: #00af00; text-decoration-color: #00af00\">1</span>)      │             <span style=\"color: #00af00; text-decoration-color: #00af00\">0</span> │\n",
              "├─────────────────────────────────┼────────────────────────┼───────────────┤\n",
              "│ conv2d (<span style=\"color: #0087ff; text-decoration-color: #0087ff\">Conv2D</span>)                 │ (<span style=\"color: #00d7ff; text-decoration-color: #00d7ff\">None</span>, <span style=\"color: #00af00; text-decoration-color: #00af00\">48</span>, <span style=\"color: #00af00; text-decoration-color: #00af00\">13</span>, <span style=\"color: #00af00; text-decoration-color: #00af00\">8</span>)      │            <span style=\"color: #00af00; text-decoration-color: #00af00\">80</span> │\n",
              "├─────────────────────────────────┼────────────────────────┼───────────────┤\n",
              "│ max_pooling2d (<span style=\"color: #0087ff; text-decoration-color: #0087ff\">MaxPooling2D</span>)    │ (<span style=\"color: #00d7ff; text-decoration-color: #00d7ff\">None</span>, <span style=\"color: #00af00; text-decoration-color: #00af00\">24</span>, <span style=\"color: #00af00; text-decoration-color: #00af00\">7</span>, <span style=\"color: #00af00; text-decoration-color: #00af00\">8</span>)       │             <span style=\"color: #00af00; text-decoration-color: #00af00\">0</span> │\n",
              "├─────────────────────────────────┼────────────────────────┼───────────────┤\n",
              "│ dropout (<span style=\"color: #0087ff; text-decoration-color: #0087ff\">Dropout</span>)               │ (<span style=\"color: #00d7ff; text-decoration-color: #00d7ff\">None</span>, <span style=\"color: #00af00; text-decoration-color: #00af00\">24</span>, <span style=\"color: #00af00; text-decoration-color: #00af00\">7</span>, <span style=\"color: #00af00; text-decoration-color: #00af00\">8</span>)       │             <span style=\"color: #00af00; text-decoration-color: #00af00\">0</span> │\n",
              "├─────────────────────────────────┼────────────────────────┼───────────────┤\n",
              "│ conv2d_1 (<span style=\"color: #0087ff; text-decoration-color: #0087ff\">Conv2D</span>)               │ (<span style=\"color: #00d7ff; text-decoration-color: #00d7ff\">None</span>, <span style=\"color: #00af00; text-decoration-color: #00af00\">24</span>, <span style=\"color: #00af00; text-decoration-color: #00af00\">7</span>, <span style=\"color: #00af00; text-decoration-color: #00af00\">16</span>)      │         <span style=\"color: #00af00; text-decoration-color: #00af00\">1,168</span> │\n",
              "├─────────────────────────────────┼────────────────────────┼───────────────┤\n",
              "│ max_pooling2d_1 (<span style=\"color: #0087ff; text-decoration-color: #0087ff\">MaxPooling2D</span>)  │ (<span style=\"color: #00d7ff; text-decoration-color: #00d7ff\">None</span>, <span style=\"color: #00af00; text-decoration-color: #00af00\">12</span>, <span style=\"color: #00af00; text-decoration-color: #00af00\">4</span>, <span style=\"color: #00af00; text-decoration-color: #00af00\">16</span>)      │             <span style=\"color: #00af00; text-decoration-color: #00af00\">0</span> │\n",
              "├─────────────────────────────────┼────────────────────────┼───────────────┤\n",
              "│ dropout_1 (<span style=\"color: #0087ff; text-decoration-color: #0087ff\">Dropout</span>)             │ (<span style=\"color: #00d7ff; text-decoration-color: #00d7ff\">None</span>, <span style=\"color: #00af00; text-decoration-color: #00af00\">12</span>, <span style=\"color: #00af00; text-decoration-color: #00af00\">4</span>, <span style=\"color: #00af00; text-decoration-color: #00af00\">16</span>)      │             <span style=\"color: #00af00; text-decoration-color: #00af00\">0</span> │\n",
              "├─────────────────────────────────┼────────────────────────┼───────────────┤\n",
              "│ flatten (<span style=\"color: #0087ff; text-decoration-color: #0087ff\">Flatten</span>)               │ (<span style=\"color: #00d7ff; text-decoration-color: #00d7ff\">None</span>, <span style=\"color: #00af00; text-decoration-color: #00af00\">768</span>)            │             <span style=\"color: #00af00; text-decoration-color: #00af00\">0</span> │\n",
              "├─────────────────────────────────┼────────────────────────┼───────────────┤\n",
              "│ y_pred (<span style=\"color: #0087ff; text-decoration-color: #0087ff\">Dense</span>)                  │ (<span style=\"color: #00d7ff; text-decoration-color: #00d7ff\">None</span>, <span style=\"color: #00af00; text-decoration-color: #00af00\">3</span>)              │         <span style=\"color: #00af00; text-decoration-color: #00af00\">2,307</span> │\n",
              "└─────────────────────────────────┴────────────────────────┴───────────────┘\n",
              "</pre>\n"
            ]
          },
          "metadata": {}
        },
        {
          "output_type": "display_data",
          "data": {
            "text/plain": [
              "\u001b[1m Total params: \u001b[0m\u001b[38;5;34m3,557\u001b[0m (13.90 KB)\n"
            ],
            "text/html": [
              "<pre style=\"white-space:pre;overflow-x:auto;line-height:normal;font-family:Menlo,'DejaVu Sans Mono',consolas,'Courier New',monospace\"><span style=\"font-weight: bold\"> Total params: </span><span style=\"color: #00af00; text-decoration-color: #00af00\">3,557</span> (13.90 KB)\n",
              "</pre>\n"
            ]
          },
          "metadata": {}
        },
        {
          "output_type": "display_data",
          "data": {
            "text/plain": [
              "\u001b[1m Trainable params: \u001b[0m\u001b[38;5;34m3,555\u001b[0m (13.89 KB)\n"
            ],
            "text/html": [
              "<pre style=\"white-space:pre;overflow-x:auto;line-height:normal;font-family:Menlo,'DejaVu Sans Mono',consolas,'Courier New',monospace\"><span style=\"font-weight: bold\"> Trainable params: </span><span style=\"color: #00af00; text-decoration-color: #00af00\">3,555</span> (13.89 KB)\n",
              "</pre>\n"
            ]
          },
          "metadata": {}
        },
        {
          "output_type": "display_data",
          "data": {
            "text/plain": [
              "\u001b[1m Non-trainable params: \u001b[0m\u001b[38;5;34m0\u001b[0m (0.00 B)\n"
            ],
            "text/html": [
              "<pre style=\"white-space:pre;overflow-x:auto;line-height:normal;font-family:Menlo,'DejaVu Sans Mono',consolas,'Courier New',monospace\"><span style=\"font-weight: bold\"> Non-trainable params: </span><span style=\"color: #00af00; text-decoration-color: #00af00\">0</span> (0.00 B)\n",
              "</pre>\n"
            ]
          },
          "metadata": {}
        },
        {
          "output_type": "display_data",
          "data": {
            "text/plain": [
              "\u001b[1m Optimizer params: \u001b[0m\u001b[38;5;34m2\u001b[0m (12.00 B)\n"
            ],
            "text/html": [
              "<pre style=\"white-space:pre;overflow-x:auto;line-height:normal;font-family:Menlo,'DejaVu Sans Mono',consolas,'Courier New',monospace\"><span style=\"font-weight: bold\"> Optimizer params: </span><span style=\"color: #00af00; text-decoration-color: #00af00\">2</span> (12.00 B)\n",
              "</pre>\n"
            ]
          },
          "metadata": {}
        }
      ],
      "source": [
        "model.summary()"
      ]
    },
    {
      "cell_type": "code",
      "execution_count": 74,
      "metadata": {
        "id": "KWTAr8-RmeDk"
      },
      "outputs": [],
      "source": [
        "test_data = np.load('data/X_split_test.npy')\n",
        "test_labels = np.load('data/Y_split_test.npy')"
      ]
    },
    {
      "cell_type": "code",
      "execution_count": 75,
      "metadata": {
        "colab": {
          "base_uri": "https://localhost:8080/"
        },
        "id": "FobcaYhpnEi5",
        "outputId": "f8b85e36-a804-42e8-c2b2-1404ab7cfbf6"
      },
      "outputs": [
        {
          "output_type": "execute_result",
          "data": {
            "text/plain": [
              "array([1, 3, 1, 1, 3, 3, 3, 3, 3, 3, 3, 3, 3, 3, 3, 3, 3, 3, 3, 3, 3, 3,\n",
              "       3, 3, 3, 3, 3, 3, 3, 3, 3, 3, 3, 3, 3, 3, 3, 3, 3, 3, 3, 3, 3, 3,\n",
              "       3, 3, 3, 3, 3, 3, 3, 3, 3, 3, 3, 3, 3, 3, 3, 3, 3, 3, 3, 3, 3, 3,\n",
              "       3, 3, 3, 3, 3, 3, 3, 3, 3, 3, 3, 3, 3, 3, 3, 3, 3, 3, 3, 3, 3, 3,\n",
              "       3, 3, 3, 3, 3, 3, 3, 3, 3, 3, 3, 3, 3, 3, 3, 3, 3, 3, 3, 3, 3, 3,\n",
              "       3, 3, 3, 3, 3, 3, 3, 3, 3, 3, 3, 3, 3, 3, 3, 3, 3, 3, 3, 3, 3, 3,\n",
              "       3, 3, 3, 3, 3, 3, 3, 3, 3, 3, 3, 3, 3, 3, 3, 3, 3, 3, 3, 2, 2, 2,\n",
              "       2, 2, 2, 2, 2, 2, 2, 2, 2, 2, 2, 2, 2, 2, 2, 2, 2, 2, 2, 2, 2, 2,\n",
              "       2, 2, 2, 2, 2, 2, 2, 2, 2, 2, 2, 2, 2, 2, 2, 2, 2, 2, 2, 2, 2, 2,\n",
              "       2, 2, 2, 2, 2, 2, 2, 2, 2, 2, 2, 2, 2, 2, 2, 2, 2, 2, 2, 2, 2, 2,\n",
              "       2, 2, 2, 2, 2, 2, 2, 2, 2, 2, 2, 2, 2, 2, 2, 2, 2, 2, 2, 2, 2, 2,\n",
              "       2, 2, 2, 2, 2, 2, 2, 2, 2, 2, 2, 2, 2, 2, 2, 2, 2, 2, 2, 2, 2, 2,\n",
              "       2, 2, 2, 2, 2, 2, 2, 2, 2, 2, 2, 2, 2, 2, 2, 2, 2, 2, 2, 2, 2, 2,\n",
              "       2, 2, 2, 2, 1, 2, 2, 2, 2, 1, 1, 1, 1, 1, 1, 1, 1, 1, 1, 1, 1, 1,\n",
              "       1, 1, 1, 1, 1, 1, 1, 1, 1, 1, 1, 1, 1, 1, 1, 1, 1, 1, 1, 1, 1, 1,\n",
              "       1, 1, 1, 1, 1, 1, 1, 1, 1, 1, 1, 1, 1, 1, 1, 1, 1, 1, 1, 1, 1, 1,\n",
              "       1, 1, 1, 1, 1, 1, 1, 1, 1, 1, 1, 1, 1, 1, 1, 1, 1, 1, 1, 1, 1, 1,\n",
              "       1, 1, 1, 1, 1, 1, 1, 1, 1, 1, 1, 1, 1, 1, 1, 1, 1, 1, 1, 1, 1, 1,\n",
              "       1, 1, 1, 1, 1, 1, 1, 1, 1, 1, 1, 1, 1, 1, 1, 1, 1])"
            ]
          },
          "metadata": {},
          "execution_count": 75
        }
      ],
      "source": [
        "# The labels are in the first column and go like 1=helloworld, 2=noise, 3=unknown\n",
        "test_labels[:,0]"
      ]
    },
    {
      "cell_type": "code",
      "execution_count": 76,
      "metadata": {
        "colab": {
          "base_uri": "https://localhost:8080/"
        },
        "id": "8N6sM6eZnqhz",
        "outputId": "a2205c39-d0f1-4838-8dac-e8af89b3c03d"
      },
      "outputs": [
        {
          "output_type": "stream",
          "name": "stdout",
          "text": [
            "\u001b[1m13/13\u001b[0m \u001b[32m━━━━━━━━━━━━━━━━━━━━\u001b[0m\u001b[37m\u001b[0m \u001b[1m0s\u001b[0m 9ms/step\n"
          ]
        }
      ],
      "source": [
        "predictions = model.predict(test_data)"
      ]
    },
    {
      "cell_type": "code",
      "execution_count": 77,
      "metadata": {
        "colab": {
          "base_uri": "https://localhost:8080/"
        },
        "id": "YgpaWTaLocbU",
        "outputId": "a1267343-d691-4722-c7fa-ddc571ba7d0d"
      },
      "outputs": [
        {
          "output_type": "execute_result",
          "data": {
            "text/plain": [
              "array([0, 0, 0, 0, 2, 2, 2, 2, 2, 2, 2, 2, 2, 2, 2, 2, 2, 2, 2, 2, 2, 2,\n",
              "       2, 2, 2, 0, 2, 2, 2, 2, 2, 0, 0, 1, 2, 2, 1, 2, 0, 0, 2, 2, 2, 2,\n",
              "       1, 2, 0, 2, 2, 2, 2, 2, 2, 2, 2, 2, 2, 2, 2, 2, 2, 2, 2, 2, 2, 2,\n",
              "       2, 2, 0, 2, 2, 2, 2, 1, 2, 2, 2, 2, 2, 2, 2, 2, 2, 1, 2, 0, 2, 2,\n",
              "       0, 2, 2, 2, 2, 2, 0, 2, 2, 2, 2, 1, 2, 2, 1, 2, 0, 2, 2, 2, 2, 2,\n",
              "       2, 2, 2, 2, 2, 2, 2, 2, 2, 2, 2, 2, 2, 2, 2, 2, 2, 2, 2, 2, 2, 2,\n",
              "       2, 1, 2, 2, 2, 0, 2, 2, 2, 2, 2, 2, 2, 2, 2, 2, 2, 2, 2, 1, 1, 1,\n",
              "       1, 1, 1, 1, 1, 1, 1, 1, 1, 0, 1, 1, 1, 1, 1, 2, 1, 1, 1, 1, 1, 1,\n",
              "       1, 1, 1, 1, 1, 1, 1, 1, 1, 1, 2, 1, 1, 1, 1, 1, 0, 1, 1, 1, 1, 1,\n",
              "       1, 1, 1, 1, 1, 1, 1, 1, 1, 1, 1, 1, 1, 1, 1, 1, 1, 1, 1, 0, 1, 1,\n",
              "       1, 1, 2, 1, 1, 1, 1, 1, 1, 1, 1, 1, 1, 1, 1, 1, 1, 1, 0, 1, 1, 1,\n",
              "       1, 1, 1, 1, 1, 1, 1, 1, 2, 1, 2, 1, 1, 1, 1, 1, 1, 1, 1, 1, 1, 1,\n",
              "       1, 1, 1, 1, 1, 1, 1, 1, 1, 1, 1, 0, 1, 1, 1, 1, 1, 1, 1, 1, 1, 1,\n",
              "       1, 1, 1, 1, 0, 1, 1, 1, 1, 0, 0, 0, 0, 0, 0, 0, 0, 0, 0, 0, 0, 0,\n",
              "       0, 0, 0, 0, 0, 0, 0, 0, 0, 0, 0, 0, 0, 0, 0, 0, 0, 0, 0, 0, 0, 0,\n",
              "       0, 0, 0, 0, 0, 0, 0, 0, 0, 0, 0, 0, 0, 0, 0, 0, 0, 0, 0, 2, 0, 0,\n",
              "       0, 0, 0, 0, 0, 0, 0, 0, 0, 0, 2, 0, 0, 2, 0, 0, 2, 0, 0, 0, 0, 0,\n",
              "       0, 0, 0, 0, 0, 0, 0, 0, 0, 2, 0, 0, 0, 0, 0, 0, 0, 0, 0, 0, 0, 0,\n",
              "       0, 0, 0, 0, 0, 2, 0, 0, 0, 0, 0, 0, 0, 0, 0, 0, 2])"
            ]
          },
          "metadata": {},
          "execution_count": 77
        }
      ],
      "source": [
        "np.argmax(predictions, axis = 1)"
      ]
    },
    {
      "cell_type": "code",
      "execution_count": 78,
      "metadata": {
        "colab": {
          "base_uri": "https://localhost:8080/"
        },
        "id": "kehVktxIo6sU",
        "outputId": "90292924-35d3-4ad2-9641-1e7cd88165ca"
      },
      "outputs": [
        {
          "output_type": "execute_result",
          "data": {
            "text/plain": [
              "array([0, 2, 0, 0, 2, 2, 2, 2, 2, 2, 2, 2, 2, 2, 2, 2, 2, 2, 2, 2, 2, 2,\n",
              "       2, 2, 2, 2, 2, 2, 2, 2, 2, 2, 2, 2, 2, 2, 2, 2, 2, 2, 2, 2, 2, 2,\n",
              "       2, 2, 2, 2, 2, 2, 2, 2, 2, 2, 2, 2, 2, 2, 2, 2, 2, 2, 2, 2, 2, 2,\n",
              "       2, 2, 2, 2, 2, 2, 2, 2, 2, 2, 2, 2, 2, 2, 2, 2, 2, 2, 2, 2, 2, 2,\n",
              "       2, 2, 2, 2, 2, 2, 2, 2, 2, 2, 2, 2, 2, 2, 2, 2, 2, 2, 2, 2, 2, 2,\n",
              "       2, 2, 2, 2, 2, 2, 2, 2, 2, 2, 2, 2, 2, 2, 2, 2, 2, 2, 2, 2, 2, 2,\n",
              "       2, 2, 2, 2, 2, 2, 2, 2, 2, 2, 2, 2, 2, 2, 2, 2, 2, 2, 2, 1, 1, 1,\n",
              "       1, 1, 1, 1, 1, 1, 1, 1, 1, 1, 1, 1, 1, 1, 1, 1, 1, 1, 1, 1, 1, 1,\n",
              "       1, 1, 1, 1, 1, 1, 1, 1, 1, 1, 1, 1, 1, 1, 1, 1, 1, 1, 1, 1, 1, 1,\n",
              "       1, 1, 1, 1, 1, 1, 1, 1, 1, 1, 1, 1, 1, 1, 1, 1, 1, 1, 1, 1, 1, 1,\n",
              "       1, 1, 1, 1, 1, 1, 1, 1, 1, 1, 1, 1, 1, 1, 1, 1, 1, 1, 1, 1, 1, 1,\n",
              "       1, 1, 1, 1, 1, 1, 1, 1, 1, 1, 1, 1, 1, 1, 1, 1, 1, 1, 1, 1, 1, 1,\n",
              "       1, 1, 1, 1, 1, 1, 1, 1, 1, 1, 1, 1, 1, 1, 1, 1, 1, 1, 1, 1, 1, 1,\n",
              "       1, 1, 1, 1, 0, 1, 1, 1, 1, 0, 0, 0, 0, 0, 0, 0, 0, 0, 0, 0, 0, 0,\n",
              "       0, 0, 0, 0, 0, 0, 0, 0, 0, 0, 0, 0, 0, 0, 0, 0, 0, 0, 0, 0, 0, 0,\n",
              "       0, 0, 0, 0, 0, 0, 0, 0, 0, 0, 0, 0, 0, 0, 0, 0, 0, 0, 0, 0, 0, 0,\n",
              "       0, 0, 0, 0, 0, 0, 0, 0, 0, 0, 0, 0, 0, 0, 0, 0, 0, 0, 0, 0, 0, 0,\n",
              "       0, 0, 0, 0, 0, 0, 0, 0, 0, 0, 0, 0, 0, 0, 0, 0, 0, 0, 0, 0, 0, 0,\n",
              "       0, 0, 0, 0, 0, 0, 0, 0, 0, 0, 0, 0, 0, 0, 0, 0, 0])"
            ]
          },
          "metadata": {},
          "execution_count": 78
        }
      ],
      "source": [
        "# For calculating the accuracy we substract -1\n",
        "test_labels[:,0]-1"
      ]
    },
    {
      "cell_type": "code",
      "execution_count": 79,
      "metadata": {
        "id": "zExWfJlYp61n"
      },
      "outputs": [],
      "source": [
        "accuracy = np.mean(np.argmax(predictions, axis = 1) == (test_labels[:,0]-1))"
      ]
    },
    {
      "cell_type": "code",
      "execution_count": 80,
      "metadata": {
        "colab": {
          "base_uri": "https://localhost:8080/"
        },
        "id": "tATETmgWqTCm",
        "outputId": "0125762e-01ab-4137-e206-4e434a14ed61"
      },
      "outputs": [
        {
          "output_type": "stream",
          "name": "stdout",
          "text": [
            "Accuracy:  90.80%\n"
          ]
        }
      ],
      "source": [
        "print(f'Accuracy: {accuracy * 100: .2f}%')"
      ]
    },
    {
      "cell_type": "markdown",
      "metadata": {
        "id": "HTpSElQQH_81"
      },
      "source": [
        "# Tutorial 3: Recognize sounds from audio\n",
        "https://studio.edgeimpulse.com/public/14301/latest"
      ]
    },
    {
      "cell_type": "code",
      "execution_count": 81,
      "metadata": {
        "id": "2hxnqtFMIH6F"
      },
      "outputs": [],
      "source": [
        "# no cloning needed, the following are extracted from the project page dashboard for auto downloads\n",
        "PROJECT_ID=417225\n",
        "DSP_ID=24\n",
        "LRN_ID=28\n",
        "\n",
        "# if there is no data subfolder, create one, and get the data inside it; -q flag is for quiet mode\n",
        "\n",
        "if not os.path.exists('data3'):\n",
        "    os.makedirs('data3')\n",
        "    !wget -q https://studio.edgeimpulse.com/v1/api/$PROJECT_ID/dsp-data/$DSP_ID/x/training -O data3/X_split_train.npy\n",
        "    !wget -q https://studio.edgeimpulse.com/v1/api/$PROJECT_ID/dsp-data/$DSP_ID/y/training -O data3/Y_split_train.npy\n",
        "    !wget -q https://studio.edgeimpulse.com/v1/api/$PROJECT_ID/dsp-data/$DSP_ID/x/testing -O data3/X_split_test.npy\n",
        "    !wget -q https://studio.edgeimpulse.com/v1/api/$PROJECT_ID/dsp-data/$DSP_ID/y/testing -O data3/Y_split_test.npy\n"
      ]
    },
    {
      "cell_type": "code",
      "execution_count": 82,
      "metadata": {
        "colab": {
          "base_uri": "https://localhost:8080/"
        },
        "id": "ZXhuSQNBIy4U",
        "outputId": "1d86cd5f-704d-4a1f-df31-ea72a0ce25dd"
      },
      "outputs": [
        {
          "output_type": "stream",
          "name": "stdout",
          "text": [
            "--2025-10-20 13:12:52--  https://studio.edgeimpulse.com/v1/api/417225/learn-data/28/model/tflite-h5\n",
            "Resolving studio.edgeimpulse.com (studio.edgeimpulse.com)... 13.225.47.30, 13.225.47.125, 13.225.47.112, ...\n",
            "Connecting to studio.edgeimpulse.com (studio.edgeimpulse.com)|13.225.47.30|:443... connected.\n",
            "HTTP request sent, awaiting response... 200 OK\n",
            "Length: unspecified [application/octet-stream]\n",
            "Saving to: ‘model3/model3.zip’\n",
            "\n",
            "model3/model3.zip       [ <=>                ]  12.99K  --.-KB/s    in 0s      \n",
            "\n",
            "2025-10-20 13:12:53 (78.2 MB/s) - ‘model3/model3.zip’ saved [13298]\n",
            "\n"
          ]
        }
      ],
      "source": [
        "# THE MODEL\n",
        "if not os.path.exists('model3'):\n",
        "    os.makedirs('model3')\n",
        "!wget https://studio.edgeimpulse.com/v1/api/$PROJECT_ID/learn-data/$LRN_ID/model/tflite-h5 -O model3/model3.zip\n",
        "\n",
        "# unzip model1.zip quitely as model1.h5 and remove model1.zip\n",
        "!cd model3 && unzip -q model3.zip\n",
        "!rm model3/model3.zip\n",
        "!cd .."
      ]
    },
    {
      "cell_type": "code",
      "execution_count": 83,
      "metadata": {
        "colab": {
          "base_uri": "https://localhost:8080/",
          "height": 450
        },
        "id": "OqMdo07VJJxR",
        "outputId": "947283c2-c897-4d6b-8685-349d61c39c77"
      },
      "outputs": [
        {
          "output_type": "stream",
          "name": "stderr",
          "text": [
            "WARNING:absl:Compiled the loaded model, but the compiled metrics have yet to be built. `model.compile_metrics` will be empty until you train or evaluate the model.\n"
          ]
        },
        {
          "output_type": "display_data",
          "data": {
            "text/plain": [
              "\u001b[1mModel: \"sequential\"\u001b[0m\n"
            ],
            "text/html": [
              "<pre style=\"white-space:pre;overflow-x:auto;line-height:normal;font-family:Menlo,'DejaVu Sans Mono',consolas,'Courier New',monospace\"><span style=\"font-weight: bold\">Model: \"sequential\"</span>\n",
              "</pre>\n"
            ]
          },
          "metadata": {}
        },
        {
          "output_type": "display_data",
          "data": {
            "text/plain": [
              "┏━━━━━━━━━━━━━━━━━━━━━━━━━━━━━━━━━┳━━━━━━━━━━━━━━━━━━━━━━━━┳━━━━━━━━━━━━━━━┓\n",
              "┃\u001b[1m \u001b[0m\u001b[1mLayer (type)                   \u001b[0m\u001b[1m \u001b[0m┃\u001b[1m \u001b[0m\u001b[1mOutput Shape          \u001b[0m\u001b[1m \u001b[0m┃\u001b[1m \u001b[0m\u001b[1m      Param #\u001b[0m\u001b[1m \u001b[0m┃\n",
              "┡━━━━━━━━━━━━━━━━━━━━━━━━━━━━━━━━━╇━━━━━━━━━━━━━━━━━━━━━━━━╇━━━━━━━━━━━━━━━┩\n",
              "│ reshape (\u001b[38;5;33mReshape\u001b[0m)               │ (\u001b[38;5;45mNone\u001b[0m, \u001b[38;5;34m99\u001b[0m, \u001b[38;5;34m65\u001b[0m)         │             \u001b[38;5;34m0\u001b[0m │\n",
              "├─────────────────────────────────┼────────────────────────┼───────────────┤\n",
              "│ conv1d (\u001b[38;5;33mConv1D\u001b[0m)                 │ (\u001b[38;5;45mNone\u001b[0m, \u001b[38;5;34m99\u001b[0m, \u001b[38;5;34m8\u001b[0m)          │         \u001b[38;5;34m1,568\u001b[0m │\n",
              "├─────────────────────────────────┼────────────────────────┼───────────────┤\n",
              "│ max_pooling1d (\u001b[38;5;33mMaxPooling1D\u001b[0m)    │ (\u001b[38;5;45mNone\u001b[0m, \u001b[38;5;34m50\u001b[0m, \u001b[38;5;34m8\u001b[0m)          │             \u001b[38;5;34m0\u001b[0m │\n",
              "├─────────────────────────────────┼────────────────────────┼───────────────┤\n",
              "│ dropout (\u001b[38;5;33mDropout\u001b[0m)               │ (\u001b[38;5;45mNone\u001b[0m, \u001b[38;5;34m50\u001b[0m, \u001b[38;5;34m8\u001b[0m)          │             \u001b[38;5;34m0\u001b[0m │\n",
              "├─────────────────────────────────┼────────────────────────┼───────────────┤\n",
              "│ conv1d_1 (\u001b[38;5;33mConv1D\u001b[0m)               │ (\u001b[38;5;45mNone\u001b[0m, \u001b[38;5;34m50\u001b[0m, \u001b[38;5;34m16\u001b[0m)         │           \u001b[38;5;34m400\u001b[0m │\n",
              "├─────────────────────────────────┼────────────────────────┼───────────────┤\n",
              "│ max_pooling1d_1 (\u001b[38;5;33mMaxPooling1D\u001b[0m)  │ (\u001b[38;5;45mNone\u001b[0m, \u001b[38;5;34m25\u001b[0m, \u001b[38;5;34m16\u001b[0m)         │             \u001b[38;5;34m0\u001b[0m │\n",
              "├─────────────────────────────────┼────────────────────────┼───────────────┤\n",
              "│ dropout_1 (\u001b[38;5;33mDropout\u001b[0m)             │ (\u001b[38;5;45mNone\u001b[0m, \u001b[38;5;34m25\u001b[0m, \u001b[38;5;34m16\u001b[0m)         │             \u001b[38;5;34m0\u001b[0m │\n",
              "├─────────────────────────────────┼────────────────────────┼───────────────┤\n",
              "│ flatten (\u001b[38;5;33mFlatten\u001b[0m)               │ (\u001b[38;5;45mNone\u001b[0m, \u001b[38;5;34m400\u001b[0m)            │             \u001b[38;5;34m0\u001b[0m │\n",
              "├─────────────────────────────────┼────────────────────────┼───────────────┤\n",
              "│ y_pred (\u001b[38;5;33mDense\u001b[0m)                  │ (\u001b[38;5;45mNone\u001b[0m, \u001b[38;5;34m2\u001b[0m)              │           \u001b[38;5;34m802\u001b[0m │\n",
              "└─────────────────────────────────┴────────────────────────┴───────────────┘\n"
            ],
            "text/html": [
              "<pre style=\"white-space:pre;overflow-x:auto;line-height:normal;font-family:Menlo,'DejaVu Sans Mono',consolas,'Courier New',monospace\">┏━━━━━━━━━━━━━━━━━━━━━━━━━━━━━━━━━┳━━━━━━━━━━━━━━━━━━━━━━━━┳━━━━━━━━━━━━━━━┓\n",
              "┃<span style=\"font-weight: bold\"> Layer (type)                    </span>┃<span style=\"font-weight: bold\"> Output Shape           </span>┃<span style=\"font-weight: bold\">       Param # </span>┃\n",
              "┡━━━━━━━━━━━━━━━━━━━━━━━━━━━━━━━━━╇━━━━━━━━━━━━━━━━━━━━━━━━╇━━━━━━━━━━━━━━━┩\n",
              "│ reshape (<span style=\"color: #0087ff; text-decoration-color: #0087ff\">Reshape</span>)               │ (<span style=\"color: #00d7ff; text-decoration-color: #00d7ff\">None</span>, <span style=\"color: #00af00; text-decoration-color: #00af00\">99</span>, <span style=\"color: #00af00; text-decoration-color: #00af00\">65</span>)         │             <span style=\"color: #00af00; text-decoration-color: #00af00\">0</span> │\n",
              "├─────────────────────────────────┼────────────────────────┼───────────────┤\n",
              "│ conv1d (<span style=\"color: #0087ff; text-decoration-color: #0087ff\">Conv1D</span>)                 │ (<span style=\"color: #00d7ff; text-decoration-color: #00d7ff\">None</span>, <span style=\"color: #00af00; text-decoration-color: #00af00\">99</span>, <span style=\"color: #00af00; text-decoration-color: #00af00\">8</span>)          │         <span style=\"color: #00af00; text-decoration-color: #00af00\">1,568</span> │\n",
              "├─────────────────────────────────┼────────────────────────┼───────────────┤\n",
              "│ max_pooling1d (<span style=\"color: #0087ff; text-decoration-color: #0087ff\">MaxPooling1D</span>)    │ (<span style=\"color: #00d7ff; text-decoration-color: #00d7ff\">None</span>, <span style=\"color: #00af00; text-decoration-color: #00af00\">50</span>, <span style=\"color: #00af00; text-decoration-color: #00af00\">8</span>)          │             <span style=\"color: #00af00; text-decoration-color: #00af00\">0</span> │\n",
              "├─────────────────────────────────┼────────────────────────┼───────────────┤\n",
              "│ dropout (<span style=\"color: #0087ff; text-decoration-color: #0087ff\">Dropout</span>)               │ (<span style=\"color: #00d7ff; text-decoration-color: #00d7ff\">None</span>, <span style=\"color: #00af00; text-decoration-color: #00af00\">50</span>, <span style=\"color: #00af00; text-decoration-color: #00af00\">8</span>)          │             <span style=\"color: #00af00; text-decoration-color: #00af00\">0</span> │\n",
              "├─────────────────────────────────┼────────────────────────┼───────────────┤\n",
              "│ conv1d_1 (<span style=\"color: #0087ff; text-decoration-color: #0087ff\">Conv1D</span>)               │ (<span style=\"color: #00d7ff; text-decoration-color: #00d7ff\">None</span>, <span style=\"color: #00af00; text-decoration-color: #00af00\">50</span>, <span style=\"color: #00af00; text-decoration-color: #00af00\">16</span>)         │           <span style=\"color: #00af00; text-decoration-color: #00af00\">400</span> │\n",
              "├─────────────────────────────────┼────────────────────────┼───────────────┤\n",
              "│ max_pooling1d_1 (<span style=\"color: #0087ff; text-decoration-color: #0087ff\">MaxPooling1D</span>)  │ (<span style=\"color: #00d7ff; text-decoration-color: #00d7ff\">None</span>, <span style=\"color: #00af00; text-decoration-color: #00af00\">25</span>, <span style=\"color: #00af00; text-decoration-color: #00af00\">16</span>)         │             <span style=\"color: #00af00; text-decoration-color: #00af00\">0</span> │\n",
              "├─────────────────────────────────┼────────────────────────┼───────────────┤\n",
              "│ dropout_1 (<span style=\"color: #0087ff; text-decoration-color: #0087ff\">Dropout</span>)             │ (<span style=\"color: #00d7ff; text-decoration-color: #00d7ff\">None</span>, <span style=\"color: #00af00; text-decoration-color: #00af00\">25</span>, <span style=\"color: #00af00; text-decoration-color: #00af00\">16</span>)         │             <span style=\"color: #00af00; text-decoration-color: #00af00\">0</span> │\n",
              "├─────────────────────────────────┼────────────────────────┼───────────────┤\n",
              "│ flatten (<span style=\"color: #0087ff; text-decoration-color: #0087ff\">Flatten</span>)               │ (<span style=\"color: #00d7ff; text-decoration-color: #00d7ff\">None</span>, <span style=\"color: #00af00; text-decoration-color: #00af00\">400</span>)            │             <span style=\"color: #00af00; text-decoration-color: #00af00\">0</span> │\n",
              "├─────────────────────────────────┼────────────────────────┼───────────────┤\n",
              "│ y_pred (<span style=\"color: #0087ff; text-decoration-color: #0087ff\">Dense</span>)                  │ (<span style=\"color: #00d7ff; text-decoration-color: #00d7ff\">None</span>, <span style=\"color: #00af00; text-decoration-color: #00af00\">2</span>)              │           <span style=\"color: #00af00; text-decoration-color: #00af00\">802</span> │\n",
              "└─────────────────────────────────┴────────────────────────┴───────────────┘\n",
              "</pre>\n"
            ]
          },
          "metadata": {}
        },
        {
          "output_type": "display_data",
          "data": {
            "text/plain": [
              "\u001b[1m Total params: \u001b[0m\u001b[38;5;34m2,772\u001b[0m (10.83 KB)\n"
            ],
            "text/html": [
              "<pre style=\"white-space:pre;overflow-x:auto;line-height:normal;font-family:Menlo,'DejaVu Sans Mono',consolas,'Courier New',monospace\"><span style=\"font-weight: bold\"> Total params: </span><span style=\"color: #00af00; text-decoration-color: #00af00\">2,772</span> (10.83 KB)\n",
              "</pre>\n"
            ]
          },
          "metadata": {}
        },
        {
          "output_type": "display_data",
          "data": {
            "text/plain": [
              "\u001b[1m Trainable params: \u001b[0m\u001b[38;5;34m2,770\u001b[0m (10.82 KB)\n"
            ],
            "text/html": [
              "<pre style=\"white-space:pre;overflow-x:auto;line-height:normal;font-family:Menlo,'DejaVu Sans Mono',consolas,'Courier New',monospace\"><span style=\"font-weight: bold\"> Trainable params: </span><span style=\"color: #00af00; text-decoration-color: #00af00\">2,770</span> (10.82 KB)\n",
              "</pre>\n"
            ]
          },
          "metadata": {}
        },
        {
          "output_type": "display_data",
          "data": {
            "text/plain": [
              "\u001b[1m Non-trainable params: \u001b[0m\u001b[38;5;34m0\u001b[0m (0.00 B)\n"
            ],
            "text/html": [
              "<pre style=\"white-space:pre;overflow-x:auto;line-height:normal;font-family:Menlo,'DejaVu Sans Mono',consolas,'Courier New',monospace\"><span style=\"font-weight: bold\"> Non-trainable params: </span><span style=\"color: #00af00; text-decoration-color: #00af00\">0</span> (0.00 B)\n",
              "</pre>\n"
            ]
          },
          "metadata": {}
        },
        {
          "output_type": "display_data",
          "data": {
            "text/plain": [
              "\u001b[1m Optimizer params: \u001b[0m\u001b[38;5;34m2\u001b[0m (12.00 B)\n"
            ],
            "text/html": [
              "<pre style=\"white-space:pre;overflow-x:auto;line-height:normal;font-family:Menlo,'DejaVu Sans Mono',consolas,'Courier New',monospace\"><span style=\"font-weight: bold\"> Optimizer params: </span><span style=\"color: #00af00; text-decoration-color: #00af00\">2</span> (12.00 B)\n",
              "</pre>\n"
            ]
          },
          "metadata": {}
        }
      ],
      "source": [
        "model = tf.keras.models.load_model('model3/model.h5')\n",
        "model.summary()"
      ]
    },
    {
      "cell_type": "code",
      "execution_count": 84,
      "metadata": {
        "id": "scQelBtrJa3W"
      },
      "outputs": [],
      "source": [
        "test_data = np.load('data3/X_split_test.npy')\n",
        "test_labels = np.load('data3/Y_split_test.npy')"
      ]
    },
    {
      "cell_type": "code",
      "execution_count": 85,
      "metadata": {
        "colab": {
          "base_uri": "https://localhost:8080/"
        },
        "id": "slOzUzG2JgLZ",
        "outputId": "750fcec3-f1be-40a4-9f92-031f552234be"
      },
      "outputs": [
        {
          "output_type": "execute_result",
          "data": {
            "text/plain": [
              "array([2, 2, 2, 2, 2, 2, 2, 2, 2, 2, 2, 2, 2, 2, 2, 2, 2, 2, 2, 2, 2, 2,\n",
              "       2, 2, 2, 2, 2, 2, 2, 2, 2, 2, 2, 2, 2, 2, 2, 2, 2, 2, 2, 2, 2, 2,\n",
              "       2, 2, 2, 2, 2, 2, 2, 2, 2, 2, 2, 2, 2, 2, 2, 2, 2, 2, 2, 2, 2, 2,\n",
              "       2, 2, 2, 2, 2, 2, 2, 2, 2, 2, 2, 2, 2, 2, 2, 2, 2, 2, 2, 2, 2, 2,\n",
              "       2, 2, 2, 2, 2, 2, 2, 2, 2, 2, 2, 2, 2, 2, 2, 2, 2, 2, 2, 2, 2, 2,\n",
              "       2, 2, 2, 2, 2, 2, 2, 2, 2, 2, 2, 2, 2, 2, 2, 2, 2, 2, 2, 2, 2, 2,\n",
              "       2, 2, 2, 2, 2, 2, 2, 2, 2, 2, 2, 2, 2, 2, 2, 2, 2, 2, 2, 2, 2, 2,\n",
              "       2, 2, 2, 2, 2, 2, 2, 2, 2, 2, 2, 2, 2, 2, 2, 2, 2, 2, 2, 2, 2, 2,\n",
              "       2, 2, 2, 2, 2, 2, 2, 2, 2, 2, 2, 2, 2, 2, 2, 2, 2, 2, 2, 2, 2, 1,\n",
              "       1, 1, 1, 1, 1, 1, 1, 1, 1, 1, 1, 1, 1, 1, 1, 1, 1, 1, 1, 1, 1, 1,\n",
              "       1, 1, 1, 1, 1, 1, 1, 1, 1, 1, 1, 1, 1, 1, 1, 1, 1, 1, 1, 1, 1, 1,\n",
              "       1, 1, 1, 1, 1, 1, 1, 1, 1, 1, 1, 1, 1, 1, 1, 1, 1, 1, 1, 1, 1, 1,\n",
              "       1, 1, 1, 1, 1, 1, 1, 1, 1, 1, 1, 1, 1, 1, 1, 1, 1, 1, 1, 1, 1, 1,\n",
              "       1, 1, 1, 1, 1, 1, 1, 1, 1, 1, 1, 1, 1, 1, 1, 1, 1, 1, 1, 1, 1, 1,\n",
              "       1, 1, 1, 1, 1, 1, 1, 1, 1, 1, 1, 1, 1, 1, 1, 1, 1, 1, 1, 1, 1, 1,\n",
              "       1, 1, 1, 1, 1, 1, 1, 1, 1, 1, 1, 1, 1, 1, 1, 1, 1, 1, 1, 1, 1, 1,\n",
              "       1, 1, 1, 1, 1, 1, 1, 1, 1, 1, 1, 1, 1, 1, 1, 1, 1, 1, 1, 1, 1, 1,\n",
              "       1, 1, 1, 1, 1, 1, 1, 1, 1, 1, 1, 1, 1, 1, 1, 1, 1, 1, 1, 1],\n",
              "      dtype=int32)"
            ]
          },
          "metadata": {},
          "execution_count": 85
        }
      ],
      "source": [
        "test_labels[:,0]"
      ]
    },
    {
      "cell_type": "code",
      "execution_count": 86,
      "metadata": {
        "colab": {
          "base_uri": "https://localhost:8080/"
        },
        "id": "B1AurVjPJqN_",
        "outputId": "6a284540-f84f-4755-d761-80d4b0776ef1"
      },
      "outputs": [
        {
          "output_type": "stream",
          "name": "stdout",
          "text": [
            "\u001b[1m13/13\u001b[0m \u001b[32m━━━━━━━━━━━━━━━━━━━━\u001b[0m\u001b[37m\u001b[0m \u001b[1m0s\u001b[0m 9ms/step\n"
          ]
        },
        {
          "output_type": "execute_result",
          "data": {
            "text/plain": [
              "array([1, 1, 1, 1, 1, 1, 1, 1, 1, 1, 1, 1, 1, 1, 1, 1, 1, 1, 1, 1, 1, 1,\n",
              "       1, 1, 1, 1, 1, 1, 1, 1, 1, 1, 1, 1, 1, 1, 1, 1, 1, 1, 1, 1, 1, 1,\n",
              "       1, 1, 1, 1, 1, 1, 1, 1, 1, 1, 1, 1, 1, 1, 1, 1, 1, 1, 1, 1, 1, 1,\n",
              "       1, 1, 1, 1, 1, 1, 1, 1, 1, 1, 1, 1, 1, 1, 1, 1, 1, 1, 1, 1, 1, 1,\n",
              "       1, 1, 1, 1, 1, 1, 1, 1, 1, 1, 1, 1, 1, 1, 1, 1, 1, 1, 1, 1, 1, 1,\n",
              "       1, 1, 1, 1, 1, 1, 1, 1, 1, 1, 1, 1, 1, 1, 1, 1, 1, 1, 1, 1, 1, 1,\n",
              "       1, 1, 1, 1, 1, 1, 1, 1, 1, 1, 1, 1, 1, 1, 1, 1, 1, 1, 1, 1, 1, 1,\n",
              "       1, 1, 1, 1, 1, 1, 1, 1, 1, 1, 1, 1, 1, 1, 1, 1, 1, 1, 1, 1, 1, 1,\n",
              "       1, 1, 1, 1, 1, 1, 1, 1, 1, 1, 1, 1, 1, 1, 1, 1, 1, 1, 1, 1, 1, 0,\n",
              "       0, 0, 0, 0, 0, 0, 0, 0, 0, 0, 0, 0, 0, 0, 0, 0, 0, 0, 0, 0, 0, 0,\n",
              "       0, 0, 0, 0, 0, 0, 0, 0, 0, 0, 0, 0, 0, 0, 0, 0, 0, 0, 0, 0, 0, 0,\n",
              "       0, 0, 0, 0, 0, 0, 0, 0, 0, 0, 0, 0, 0, 0, 0, 0, 0, 0, 0, 0, 0, 0,\n",
              "       0, 0, 0, 0, 0, 0, 0, 0, 0, 0, 0, 0, 0, 0, 0, 0, 0, 0, 0, 0, 0, 0,\n",
              "       0, 0, 0, 0, 0, 0, 0, 0, 0, 0, 0, 0, 0, 0, 0, 0, 0, 0, 0, 0, 0, 0,\n",
              "       0, 0, 0, 0, 0, 0, 0, 0, 0, 0, 0, 0, 0, 0, 0, 0, 0, 0, 0, 0, 0, 0,\n",
              "       0, 0, 0, 0, 0, 0, 0, 0, 0, 0, 0, 0, 0, 0, 0, 0, 0, 0, 0, 0, 0, 0,\n",
              "       0, 0, 0, 0, 0, 0, 0, 0, 0, 0, 0, 0, 0, 0, 0, 0, 0, 0, 0, 0, 0, 0,\n",
              "       0, 0, 0, 0, 0, 0, 0, 0, 0, 0, 0, 0, 0, 0, 0, 0, 0, 0, 0, 0])"
            ]
          },
          "metadata": {},
          "execution_count": 86
        }
      ],
      "source": [
        "predictions = model.predict(test_data)\n",
        "np.argmax(predictions, axis = 1)"
      ]
    },
    {
      "cell_type": "code",
      "execution_count": 87,
      "metadata": {
        "colab": {
          "base_uri": "https://localhost:8080/"
        },
        "id": "n1VcSisiJ2AG",
        "outputId": "eb8384d6-6f75-4c86-8cc6-4a1ce171a7b1"
      },
      "outputs": [
        {
          "output_type": "stream",
          "name": "stdout",
          "text": [
            "Accuracy:  100.00%\n"
          ]
        }
      ],
      "source": [
        "accuracy = np.mean(np.argmax(predictions, axis = 1) == (test_labels[:,0]-1))\n",
        "print(f'Accuracy: {accuracy * 100: .2f}%')"
      ]
    },
    {
      "cell_type": "markdown",
      "metadata": {
        "id": "oMtu2KWfKr0n"
      },
      "source": [
        "# Tutorial 4: Adding sight to your sensors\n",
        "https://studio.edgeimpulse.com/public/14227/latest\n",
        "\n",
        "Note that this did not work with tensorflow==2.17.0 so we downgraded to tensorflow==2.12.0. We need to check fresh if this causes problems for other tutorials. Better solution is to retrain the model and save in a newer format, and use the new .h5 instead of the original project. We could easily do this with the cloned version of the project?\n",
        "\n",
        "**Sensor & Block Information**\n",
        "- Image data\n",
        "- Image DSP block for normalizing image files\n",
        "- Transfer Learning block with prediction outputs: \"lamp\", \"plant\", \"unknown\""
      ]
    },
    {
      "cell_type": "markdown",
      "metadata": {
        "id": "pwA4TNtjOBP9"
      },
      "source": []
    },
    {
      "cell_type": "code",
      "execution_count": 88,
      "metadata": {
        "id": "eBBQP-xPMfZr"
      },
      "outputs": [],
      "source": [
        "import tensorflow as tf"
      ]
    },
    {
      "cell_type": "code",
      "execution_count": 89,
      "metadata": {
        "id": "BfJb5NxeK8oD"
      },
      "outputs": [],
      "source": [
        "# no cloning needed, the following are extracted from the project page dashboard for auto downloads\n",
        "PROJECT_ID=792097\n",
        "DSP_ID=31\n",
        "LRN_ID=19\n",
        "\n",
        "# if there is no data subfolder, create one, and get the data inside it; -q flag is for quiet mode\n",
        "\n",
        "if not os.path.exists('data4'):\n",
        "    os.makedirs('data4')\n",
        "    !wget -q https://studio.edgeimpulse.com/v1/api/$PROJECT_ID/dsp-data/$DSP_ID/x/training -O data4/X_split_train.npy\n",
        "    !wget -q https://studio.edgeimpulse.com/v1/api/$PROJECT_ID/dsp-data/$DSP_ID/y/training -O data4/Y_split_train.npy\n",
        "    !wget -q https://studio.edgeimpulse.com/v1/api/$PROJECT_ID/dsp-data/$DSP_ID/x/testing -O data4/X_split_test.npy\n",
        "    !wget -q https://studio.edgeimpulse.com/v1/api/$PROJECT_ID/dsp-data/$DSP_ID/y/testing -O data4/Y_split_test.npy\n"
      ]
    },
    {
      "cell_type": "code",
      "source": [
        "# We work with the Tensorflow Lite (float32) model instead of h5\n",
        "# Otherwise we need to downgrade TF version\n",
        "!wget https://studio.edgeimpulse.com/v1/api/$PROJECT_ID/learn-data/$LRN_ID/model/tflite-savedmodel -O model4/model4.zip\n",
        "!cd model4 && unzip -q model4.zip\n",
        "!rm model4/model4.zip\n",
        "!cd .."
      ],
      "metadata": {
        "colab": {
          "base_uri": "https://localhost:8080/"
        },
        "id": "Uh4u8pR5ke8N",
        "outputId": "6a265dad-814e-4a8a-a6e9-0e475fb7da2e"
      },
      "execution_count": 90,
      "outputs": [
        {
          "output_type": "stream",
          "name": "stdout",
          "text": [
            "model4/model4.zip: No such file or directory\n",
            "/bin/bash: line 1: cd: model4: No such file or directory\n",
            "rm: cannot remove 'model4/model4.zip': No such file or directory\n"
          ]
        }
      ]
    },
    {
      "cell_type": "code",
      "source": [
        "# load the saved_model tflite form the folder not h5\n",
        "model = tf.keras.layers.TFSMLayer('model4/saved_model', call_endpoint='serving_default')"
      ],
      "metadata": {
        "id": "HNkp-1dKnYxT",
        "outputId": "ccec09f2-fc15-4cb4-9234-b3a448f8180d",
        "colab": {
          "base_uri": "https://localhost:8080/",
          "height": 304
        }
      },
      "execution_count": 91,
      "outputs": [
        {
          "output_type": "error",
          "ename": "OSError",
          "evalue": "SavedModel file does not exist at: model4/saved_model/{saved_model.pbtxt|saved_model.pb}",
          "traceback": [
            "\u001b[0;31m---------------------------------------------------------------------------\u001b[0m",
            "\u001b[0;31mOSError\u001b[0m                                   Traceback (most recent call last)",
            "\u001b[0;32m/tmp/ipython-input-257749042.py\u001b[0m in \u001b[0;36m<cell line: 0>\u001b[0;34m()\u001b[0m\n\u001b[1;32m      1\u001b[0m \u001b[0;31m# load the saved_model tflite form the folder not h5\u001b[0m\u001b[0;34m\u001b[0m\u001b[0;34m\u001b[0m\u001b[0m\n\u001b[0;32m----> 2\u001b[0;31m \u001b[0mmodel\u001b[0m \u001b[0;34m=\u001b[0m \u001b[0mtf\u001b[0m\u001b[0;34m.\u001b[0m\u001b[0mkeras\u001b[0m\u001b[0;34m.\u001b[0m\u001b[0mlayers\u001b[0m\u001b[0;34m.\u001b[0m\u001b[0mTFSMLayer\u001b[0m\u001b[0;34m(\u001b[0m\u001b[0;34m'model4/saved_model'\u001b[0m\u001b[0;34m,\u001b[0m \u001b[0mcall_endpoint\u001b[0m\u001b[0;34m=\u001b[0m\u001b[0;34m'serving_default'\u001b[0m\u001b[0;34m)\u001b[0m\u001b[0;34m\u001b[0m\u001b[0;34m\u001b[0m\u001b[0m\n\u001b[0m",
            "\u001b[0;32m/usr/local/lib/python3.12/dist-packages/keras/src/export/tfsm_layer.py\u001b[0m in \u001b[0;36m__init__\u001b[0;34m(self, filepath, call_endpoint, call_training_endpoint, trainable, name, dtype)\u001b[0m\n\u001b[1;32m     64\u001b[0m         \u001b[0msuper\u001b[0m\u001b[0;34m(\u001b[0m\u001b[0;34m)\u001b[0m\u001b[0;34m.\u001b[0m\u001b[0m__init__\u001b[0m\u001b[0;34m(\u001b[0m\u001b[0mtrainable\u001b[0m\u001b[0;34m=\u001b[0m\u001b[0mtrainable\u001b[0m\u001b[0;34m,\u001b[0m \u001b[0mname\u001b[0m\u001b[0;34m=\u001b[0m\u001b[0mname\u001b[0m\u001b[0;34m,\u001b[0m \u001b[0mdtype\u001b[0m\u001b[0;34m=\u001b[0m\u001b[0mdtype\u001b[0m\u001b[0;34m)\u001b[0m\u001b[0;34m\u001b[0m\u001b[0;34m\u001b[0m\u001b[0m\n\u001b[1;32m     65\u001b[0m \u001b[0;34m\u001b[0m\u001b[0m\n\u001b[0;32m---> 66\u001b[0;31m         \u001b[0mself\u001b[0m\u001b[0;34m.\u001b[0m\u001b[0m_reloaded_obj\u001b[0m \u001b[0;34m=\u001b[0m \u001b[0mtf\u001b[0m\u001b[0;34m.\u001b[0m\u001b[0msaved_model\u001b[0m\u001b[0;34m.\u001b[0m\u001b[0mload\u001b[0m\u001b[0;34m(\u001b[0m\u001b[0mfilepath\u001b[0m\u001b[0;34m)\u001b[0m\u001b[0;34m\u001b[0m\u001b[0;34m\u001b[0m\u001b[0m\n\u001b[0m\u001b[1;32m     67\u001b[0m \u001b[0;34m\u001b[0m\u001b[0m\n\u001b[1;32m     68\u001b[0m         \u001b[0mself\u001b[0m\u001b[0;34m.\u001b[0m\u001b[0mfilepath\u001b[0m \u001b[0;34m=\u001b[0m \u001b[0mfilepath\u001b[0m\u001b[0;34m\u001b[0m\u001b[0;34m\u001b[0m\u001b[0m\n",
            "\u001b[0;32m/usr/local/lib/python3.12/dist-packages/tensorflow/python/saved_model/load.py\u001b[0m in \u001b[0;36mload\u001b[0;34m(export_dir, tags, options)\u001b[0m\n\u001b[1;32m    910\u001b[0m   \u001b[0;32mif\u001b[0m \u001b[0misinstance\u001b[0m\u001b[0;34m(\u001b[0m\u001b[0mexport_dir\u001b[0m\u001b[0;34m,\u001b[0m \u001b[0mos\u001b[0m\u001b[0;34m.\u001b[0m\u001b[0mPathLike\u001b[0m\u001b[0;34m)\u001b[0m\u001b[0;34m:\u001b[0m\u001b[0;34m\u001b[0m\u001b[0;34m\u001b[0m\u001b[0m\n\u001b[1;32m    911\u001b[0m     \u001b[0mexport_dir\u001b[0m \u001b[0;34m=\u001b[0m \u001b[0mos\u001b[0m\u001b[0;34m.\u001b[0m\u001b[0mfspath\u001b[0m\u001b[0;34m(\u001b[0m\u001b[0mexport_dir\u001b[0m\u001b[0;34m)\u001b[0m\u001b[0;34m\u001b[0m\u001b[0;34m\u001b[0m\u001b[0m\n\u001b[0;32m--> 912\u001b[0;31m   \u001b[0mresult\u001b[0m \u001b[0;34m=\u001b[0m \u001b[0mload_partial\u001b[0m\u001b[0;34m(\u001b[0m\u001b[0mexport_dir\u001b[0m\u001b[0;34m,\u001b[0m \u001b[0;32mNone\u001b[0m\u001b[0;34m,\u001b[0m \u001b[0mtags\u001b[0m\u001b[0;34m,\u001b[0m \u001b[0moptions\u001b[0m\u001b[0;34m)\u001b[0m\u001b[0;34m[\u001b[0m\u001b[0;34m\"root\"\u001b[0m\u001b[0;34m]\u001b[0m\u001b[0;34m\u001b[0m\u001b[0;34m\u001b[0m\u001b[0m\n\u001b[0m\u001b[1;32m    913\u001b[0m   \u001b[0;32mreturn\u001b[0m \u001b[0mresult\u001b[0m\u001b[0;34m\u001b[0m\u001b[0;34m\u001b[0m\u001b[0m\n\u001b[1;32m    914\u001b[0m \u001b[0;34m\u001b[0m\u001b[0m\n",
            "\u001b[0;32m/usr/local/lib/python3.12/dist-packages/tensorflow/python/saved_model/load.py\u001b[0m in \u001b[0;36mload_partial\u001b[0;34m(export_dir, filters, tags, options)\u001b[0m\n\u001b[1;32m   1014\u001b[0m     \u001b[0mtags\u001b[0m \u001b[0;34m=\u001b[0m \u001b[0mnest\u001b[0m\u001b[0;34m.\u001b[0m\u001b[0mflatten\u001b[0m\u001b[0;34m(\u001b[0m\u001b[0mtags\u001b[0m\u001b[0;34m)\u001b[0m\u001b[0;34m\u001b[0m\u001b[0;34m\u001b[0m\u001b[0m\n\u001b[1;32m   1015\u001b[0m   saved_model_proto, debug_info = (\n\u001b[0;32m-> 1016\u001b[0;31m       loader_impl.parse_saved_model_with_debug_info(export_dir))\n\u001b[0m\u001b[1;32m   1017\u001b[0m \u001b[0;34m\u001b[0m\u001b[0m\n\u001b[1;32m   1018\u001b[0m   \u001b[0mloader\u001b[0m \u001b[0;34m=\u001b[0m \u001b[0;32mNone\u001b[0m\u001b[0;34m\u001b[0m\u001b[0;34m\u001b[0m\u001b[0m\n",
            "\u001b[0;32m/usr/local/lib/python3.12/dist-packages/tensorflow/python/saved_model/loader_impl.py\u001b[0m in \u001b[0;36mparse_saved_model_with_debug_info\u001b[0;34m(export_dir)\u001b[0m\n\u001b[1;32m     57\u001b[0m     \u001b[0mparsed\u001b[0m\u001b[0;34m.\u001b[0m \u001b[0mMissing\u001b[0m \u001b[0mgraph\u001b[0m \u001b[0mdebug\u001b[0m \u001b[0minfo\u001b[0m \u001b[0mfile\u001b[0m \u001b[0;32mis\u001b[0m \u001b[0mfine\u001b[0m\u001b[0;34m.\u001b[0m\u001b[0;34m\u001b[0m\u001b[0;34m\u001b[0m\u001b[0m\n\u001b[1;32m     58\u001b[0m   \"\"\"\n\u001b[0;32m---> 59\u001b[0;31m   \u001b[0msaved_model\u001b[0m \u001b[0;34m=\u001b[0m \u001b[0mparse_saved_model\u001b[0m\u001b[0;34m(\u001b[0m\u001b[0mexport_dir\u001b[0m\u001b[0;34m)\u001b[0m\u001b[0;34m\u001b[0m\u001b[0;34m\u001b[0m\u001b[0m\n\u001b[0m\u001b[1;32m     60\u001b[0m \u001b[0;34m\u001b[0m\u001b[0m\n\u001b[1;32m     61\u001b[0m   debug_info_path = file_io.join(\n",
            "\u001b[0;32m/usr/local/lib/python3.12/dist-packages/tensorflow/python/saved_model/loader_impl.py\u001b[0m in \u001b[0;36mparse_saved_model\u001b[0;34m(export_dir)\u001b[0m\n\u001b[1;32m    117\u001b[0m       \u001b[0;32mraise\u001b[0m \u001b[0mIOError\u001b[0m\u001b[0;34m(\u001b[0m\u001b[0;34mf\"Cannot parse file {path_to_pbtxt}: {str(e)}.\"\u001b[0m\u001b[0;34m)\u001b[0m \u001b[0;32mfrom\u001b[0m \u001b[0me\u001b[0m\u001b[0;34m\u001b[0m\u001b[0;34m\u001b[0m\u001b[0m\n\u001b[1;32m    118\u001b[0m   \u001b[0;32melse\u001b[0m\u001b[0;34m:\u001b[0m\u001b[0;34m\u001b[0m\u001b[0;34m\u001b[0m\u001b[0m\n\u001b[0;32m--> 119\u001b[0;31m     raise IOError(\n\u001b[0m\u001b[1;32m    120\u001b[0m         \u001b[0;34mf\"SavedModel file does not exist at: {export_dir}{os.path.sep}\"\u001b[0m\u001b[0;34m\u001b[0m\u001b[0;34m\u001b[0m\u001b[0m\n\u001b[1;32m    121\u001b[0m         \u001b[0;34mf\"{{{constants.SAVED_MODEL_FILENAME_PBTXT}|\"\u001b[0m\u001b[0;34m\u001b[0m\u001b[0;34m\u001b[0m\u001b[0m\n",
            "\u001b[0;31mOSError\u001b[0m: SavedModel file does not exist at: model4/saved_model/{saved_model.pbtxt|saved_model.pb}"
          ]
        }
      ]
    },
    {
      "cell_type": "code",
      "execution_count": null,
      "metadata": {
        "id": "GnJPPwgRNfRL"
      },
      "outputs": [],
      "source": [
        "test_data = np.load('data4/X_split_test.npy')\n",
        "test_labels = np.load('data4/Y_split_test.npy')\n",
        "test_labels[:,0]"
      ]
    },
    {
      "cell_type": "code",
      "execution_count": null,
      "metadata": {
        "id": "HJ_l_o5-OHRS"
      },
      "outputs": [],
      "source": [
        "# Reshape test_data to match the expected input shape of the model\n",
        "test_data = test_data.reshape((-1, 96, 96, 3))\n",
        "\n",
        "# Get the serving_default signature from the model\n",
        "# Access the underlying loaded object from TFSMLayer\n",
        "infer = model._reloaded_obj.signatures['serving_default']\n",
        "\n",
        "# Run inference using the signature\n",
        "predictions = infer(tf.constant(test_data, dtype=tf.float32))\n",
        "\n",
        "# The output key might vary, need to check the model's output signature\n",
        "# Assuming the output key is 'output_0' based on Tutorial 5A\n",
        "prediction_results = predictions['output_0'].numpy()\n",
        "\n",
        "np.argmax(prediction_results, axis = 1)"
      ]
    },
    {
      "cell_type": "code",
      "execution_count": null,
      "metadata": {
        "id": "dBSsjZi3PUOq"
      },
      "outputs": [],
      "source": [
        "# calculate accuracy\n",
        "predicted_indices = np.argmax(prediction_results, axis = 1)\n",
        "accuracy = np.mean(predicted_indices == (test_labels[:,0]-1))\n",
        "print(f'Accuracy: {accuracy * 100: .2f}%')"
      ]
    },
    {
      "cell_type": "markdown",
      "metadata": {
        "id": "eygerS4yQBhc"
      },
      "source": [
        "# TODO Tutorial 5A: Object Detection\n",
        "https://studio.edgeimpulse.com/public/25483/latest\n",
        "\n",
        "Since the project involves an embedded devices, Keras h5 model is not created.\n",
        "\n",
        "Trying with tf_lite\n"
      ]
    },
    {
      "cell_type": "code",
      "execution_count": null,
      "metadata": {
        "id": "XzP_IupBQODm"
      },
      "outputs": [],
      "source": [
        "# no cloning needed, the following are extracted from the project page dashboard for auto downloads\n",
        "PROJECT_ID=408972\n",
        "DSP_ID=3\n",
        "LRN_ID=5\n",
        "\n",
        "# if there is no data subfolder, create one, and get the data inside it; -q flag is for quiet mode\n",
        "\n",
        "if not os.path.exists('data5a'):\n",
        "    os.makedirs('data5a')\n",
        "    !wget -q https://studio.edgeimpulse.com/v1/api/$PROJECT_ID/dsp-data/$DSP_ID/x/training -O data5a/X_split_train.npy\n",
        "    !wget -q https://studio.edgeimpulse.com/v1/api/$PROJECT_ID/dsp-data/$DSP_ID/y/training -O data5a/Y_split_train.npy\n",
        "    !wget -q https://studio.edgeimpulse.com/v1/api/$PROJECT_ID/dsp-data/$DSP_ID/x/testing -O data5a/X_split_test.npy\n",
        "    !wget -q https://studio.edgeimpulse.com/v1/api/$PROJECT_ID/dsp-data/$DSP_ID/y/testing -O data5a/Y_split_test.npy\n"
      ]
    },
    {
      "cell_type": "code",
      "execution_count": null,
      "metadata": {
        "id": "r1UimT-JQvD3"
      },
      "outputs": [],
      "source": [
        "# THE MODEL\n",
        "if not os.path.exists('model5a'):\n",
        "    os.makedirs('model5a')\n",
        "!wget https://studio.edgeimpulse.com/v1/api/$PROJECT_ID/learn-data/$LRN_ID/model/tflite-savedmodel -O model5a/model5a.zip\n",
        "\n",
        "# unzip model1.zip quitely as model1.h5 and remove model1.zip\n",
        "!cd model5a && unzip -q model5a.zip\n",
        "!rm model5a/model5a.zip\n",
        "!cd .."
      ]
    },
    {
      "cell_type": "code",
      "execution_count": null,
      "metadata": {
        "id": "3VGbToE5RdUG"
      },
      "outputs": [],
      "source": [
        "# load a TensorFlow SavedModel for example https://studio.edgeimpulse.com/v1/api/408972/learn-data/5/model/tflite-savedmodel\n",
        "model = tf.saved_model.load('model5a/saved_model')\n",
        "# model.summary() #No keras model\n"
      ]
    },
    {
      "cell_type": "code",
      "execution_count": null,
      "metadata": {
        "id": "T65iTGD42EBP"
      },
      "outputs": [],
      "source": [
        "test_data = np.load('data5a/X_split_test.npy')"
      ]
    },
    {
      "cell_type": "code",
      "execution_count": null,
      "metadata": {
        "id": "P7zRgV_I3zw3"
      },
      "outputs": [],
      "source": [
        "# For y, we read the byte file directly witout np.load()\n",
        "with open('data5a/Y_split_test.npy', 'rb') as f:\n",
        "    content = f.read()"
      ]
    },
    {
      "cell_type": "code",
      "execution_count": null,
      "metadata": {
        "id": "JIaXepJBBAAM"
      },
      "outputs": [],
      "source": [
        "# TODO data = json.loads(json_str)"
      ]
    },
    {
      "cell_type": "code",
      "execution_count": null,
      "metadata": {
        "id": "FiE_NxGf6JQ8"
      },
      "outputs": [],
      "source": [
        "# Extract the labels\n",
        "labels = []\n",
        "\n",
        "for sample in data['samples']:\n",
        "    for box in sample['boundingBoxes']:\n",
        "        labels.append(box['label'])\n",
        "\n",
        "print(labels)"
      ]
    },
    {
      "cell_type": "code",
      "execution_count": null,
      "metadata": {
        "id": "rX4ilycdBdgs"
      },
      "outputs": [],
      "source": [
        "infer = model.signatures['serving_default']"
      ]
    },
    {
      "cell_type": "code",
      "execution_count": null,
      "metadata": {
        "id": "_75CwX-4B4jS"
      },
      "outputs": [],
      "source": [
        "# Convert the input data to a tensor\n",
        "input_tensor = tf.convert_to_tensor(test_data)"
      ]
    },
    {
      "cell_type": "code",
      "execution_count": null,
      "metadata": {
        "id": "HF_mjdsmB7gm"
      },
      "outputs": [],
      "source": [
        "# Run inference\n",
        "predictions = infer(input_tensor)"
      ]
    },
    {
      "cell_type": "code",
      "execution_count": null,
      "metadata": {
        "id": "38H_Vhj0B-x_"
      },
      "outputs": [],
      "source": [
        "# Extract the prediction results\n",
        "prediction_results = predictions['output_0'].numpy()  # Adjust the key based on your model's output signature\n",
        "\n",
        "print(prediction_results)"
      ]
    },
    {
      "cell_type": "markdown",
      "metadata": {
        "id": "6u16jbSZRe3M"
      },
      "source": [
        "# TODO Tutorial 5B: Object detection FOMO\n",
        "https://studio.edgeimpulse.com/public/90393/latest\n",
        "\n",
        "\n",
        "TODO: the label data must differ being bounding box. Check how to load!!!\n",
        "\n",
        "TODO: add README\n",
        "\n"
      ]
    },
    {
      "cell_type": "code",
      "execution_count": null,
      "metadata": {
        "id": "MZ6gZv_jR5ZK"
      },
      "outputs": [],
      "source": [
        "# no cloning needed, the following are extracted from the project page dashboard for auto downloads\n",
        "PROJECT_ID=90395\n",
        "DSP_ID=3\n",
        "LRN_ID=5\n",
        "\n",
        "# if there is no data subfolder, create one, and get the data inside it; -q flag is for quiet mode\n",
        "\n",
        "if not os.path.exists('data5b'):\n",
        "    os.makedirs('data5b')\n",
        "    !wget -q https://studio.edgeimpulse.com/v1/api/$PROJECT_ID/dsp-data/$DSP_ID/x/training -O data5b/X_split_train.npy\n",
        "    !wget -q https://studio.edgeimpulse.com/v1/api/$PROJECT_ID/dsp-data/$DSP_ID/y/training -O data5b/Y_split_train.npy\n",
        "    !wget -q https://studio.edgeimpulse.com/v1/api/$PROJECT_ID/dsp-data/$DSP_ID/x/testing -O data5b/X_split_test.npy\n",
        "    !wget -q https://studio.edgeimpulse.com/v1/api/$PROJECT_ID/dsp-data/$DSP_ID/y/testing -O data5b/Y_split_test.npy\n"
      ]
    },
    {
      "cell_type": "code",
      "execution_count": null,
      "metadata": {
        "id": "LgzBksRxSPKJ"
      },
      "outputs": [],
      "source": [
        "# THE MODEL\n",
        "if not os.path.exists('model5b'):\n",
        "    os.makedirs('model5b')\n",
        "!wget https://studio.edgeimpulse.com/v1/api/$PROJECT_ID/learn-data/$LRN_ID/model/tflite-h5 -O model5b/model5b.zip\n",
        "\n",
        "# unzip model1.zip quitely as model1.h5 and remove model1.zip\n",
        "!cd model5b && unzip -q model5b.zip\n",
        "!rm model5b/model5b.zip\n",
        "!cd .."
      ]
    },
    {
      "cell_type": "code",
      "execution_count": null,
      "metadata": {
        "id": "Rx99-8f4SdNd"
      },
      "outputs": [],
      "source": [
        "model = tf.keras.models.load_model('model5b/model.h5')\n",
        "model.summary()"
      ]
    },
    {
      "cell_type": "code",
      "execution_count": null,
      "metadata": {
        "id": "dH23Z9uVSngq"
      },
      "outputs": [],
      "source": [
        "test_data = np.load('data5b/X_split_test.npy')\n"
      ]
    }
  ],
  "metadata": {
    "colab": {
      "provenance": [],
      "include_colab_link": true
    },
    "kernelspec": {
      "display_name": "ml-for-beginners",
      "language": "python",
      "name": "python3"
    },
    "language_info": {
      "codemirror_mode": {
        "name": "ipython",
        "version": 3
      },
      "file_extension": ".py",
      "mimetype": "text/x-python",
      "name": "python",
      "nbconvert_exporter": "python",
      "pygments_lexer": "ipython3",
      "version": "3.11.13"
    }
  },
  "nbformat": 4,
  "nbformat_minor": 0
}